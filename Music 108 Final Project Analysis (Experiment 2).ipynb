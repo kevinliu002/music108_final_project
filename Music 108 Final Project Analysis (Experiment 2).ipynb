{
 "cells": [
  {
   "cell_type": "code",
   "execution_count": 530,
   "metadata": {},
   "outputs": [],
   "source": [
    "import numpy as np\n",
    "import pandas as pd"
   ]
  },
  {
   "cell_type": "code",
   "execution_count": 531,
   "metadata": {},
   "outputs": [],
   "source": [
    "experimentB = pd.read_csv(\"Survey_B.csv\")"
   ]
  },
  {
   "cell_type": "code",
   "execution_count": 532,
   "metadata": {},
   "outputs": [
    {
     "data": {
      "text/html": [
       "<div>\n",
       "<style scoped>\n",
       "    .dataframe tbody tr th:only-of-type {\n",
       "        vertical-align: middle;\n",
       "    }\n",
       "\n",
       "    .dataframe tbody tr th {\n",
       "        vertical-align: top;\n",
       "    }\n",
       "\n",
       "    .dataframe thead th {\n",
       "        text-align: right;\n",
       "    }\n",
       "</style>\n",
       "<table border=\"1\" class=\"dataframe\">\n",
       "  <thead>\n",
       "    <tr style=\"text-align: right;\">\n",
       "      <th></th>\n",
       "      <th>Gender</th>\n",
       "      <th>Age</th>\n",
       "      <th>Perfect_Pitch</th>\n",
       "      <th>Listen_Music</th>\n",
       "      <th>Played_Instruement</th>\n",
       "      <th>Years</th>\n",
       "      <th>Control</th>\n",
       "      <th>Sequence1</th>\n",
       "      <th>Sequence1_Timing</th>\n",
       "      <th>Sequence2</th>\n",
       "      <th>Sequence2_Timing</th>\n",
       "      <th>Sequence3</th>\n",
       "      <th>Sequence3_Timing</th>\n",
       "      <th>Sequence4</th>\n",
       "      <th>Sequence4_Timing</th>\n",
       "      <th>Notes</th>\n",
       "      <th>Easiest</th>\n",
       "    </tr>\n",
       "  </thead>\n",
       "  <tbody>\n",
       "    <tr>\n",
       "      <th>0</th>\n",
       "      <td>Male</td>\n",
       "      <td>20.0</td>\n",
       "      <td>No</td>\n",
       "      <td>Yes</td>\n",
       "      <td>Yes</td>\n",
       "      <td>5</td>\n",
       "      <td>Higher</td>\n",
       "      <td>Same</td>\n",
       "      <td>Earlier</td>\n",
       "      <td>Lower</td>\n",
       "      <td>Expected</td>\n",
       "      <td>Higher</td>\n",
       "      <td>Later</td>\n",
       "      <td>Lower</td>\n",
       "      <td>Later</td>\n",
       "      <td>NaN</td>\n",
       "      <td>Question 1</td>\n",
       "    </tr>\n",
       "    <tr>\n",
       "      <th>1</th>\n",
       "      <td>Female</td>\n",
       "      <td>20.0</td>\n",
       "      <td>No</td>\n",
       "      <td>Yes</td>\n",
       "      <td>No</td>\n",
       "      <td>0</td>\n",
       "      <td>Higher</td>\n",
       "      <td>Higher</td>\n",
       "      <td>Later</td>\n",
       "      <td>Lower</td>\n",
       "      <td>Later</td>\n",
       "      <td>Higher</td>\n",
       "      <td>Expected</td>\n",
       "      <td>Higher</td>\n",
       "      <td>Later</td>\n",
       "      <td>NaN</td>\n",
       "      <td>Question 1</td>\n",
       "    </tr>\n",
       "    <tr>\n",
       "      <th>2</th>\n",
       "      <td>Male</td>\n",
       "      <td>20.0</td>\n",
       "      <td>No</td>\n",
       "      <td>Yes</td>\n",
       "      <td>Yes</td>\n",
       "      <td>8</td>\n",
       "      <td>Higher</td>\n",
       "      <td>Higher</td>\n",
       "      <td>Expected</td>\n",
       "      <td>Lower</td>\n",
       "      <td>Earlier</td>\n",
       "      <td>Higher</td>\n",
       "      <td>Earlier</td>\n",
       "      <td>Higher</td>\n",
       "      <td>Expected</td>\n",
       "      <td>NaN</td>\n",
       "      <td>Question 4</td>\n",
       "    </tr>\n",
       "    <tr>\n",
       "      <th>3</th>\n",
       "      <td>Male</td>\n",
       "      <td>20.0</td>\n",
       "      <td>No</td>\n",
       "      <td>Yes</td>\n",
       "      <td>Yes</td>\n",
       "      <td>8</td>\n",
       "      <td>Lower</td>\n",
       "      <td>Higher</td>\n",
       "      <td>Earlier</td>\n",
       "      <td>Same</td>\n",
       "      <td>Earlier</td>\n",
       "      <td>Lower</td>\n",
       "      <td>Earlier</td>\n",
       "      <td>Higher</td>\n",
       "      <td>Expected</td>\n",
       "      <td>NaN</td>\n",
       "      <td>Question 1</td>\n",
       "    </tr>\n",
       "    <tr>\n",
       "      <th>4</th>\n",
       "      <td>Male</td>\n",
       "      <td>18.0</td>\n",
       "      <td>No</td>\n",
       "      <td>Yes</td>\n",
       "      <td>Yes</td>\n",
       "      <td>4</td>\n",
       "      <td>Higher</td>\n",
       "      <td>Higher</td>\n",
       "      <td>Earlier</td>\n",
       "      <td>Higher</td>\n",
       "      <td>Later</td>\n",
       "      <td>Same</td>\n",
       "      <td>Earlier</td>\n",
       "      <td>Higher</td>\n",
       "      <td>Expected</td>\n",
       "      <td>NaN</td>\n",
       "      <td>Question 1</td>\n",
       "    </tr>\n",
       "  </tbody>\n",
       "</table>\n",
       "</div>"
      ],
      "text/plain": [
       "   Gender   Age Perfect_Pitch Listen_Music Played_Instruement  Years Control  \\\n",
       "0    Male  20.0            No          Yes                Yes      5  Higher   \n",
       "1  Female  20.0            No          Yes                 No      0  Higher   \n",
       "2    Male  20.0            No          Yes                Yes      8  Higher   \n",
       "3    Male  20.0            No          Yes                Yes      8   Lower   \n",
       "4    Male  18.0            No          Yes                Yes      4  Higher   \n",
       "\n",
       "  Sequence1 Sequence1_Timing Sequence2 Sequence2_Timing Sequence3  \\\n",
       "0      Same          Earlier     Lower         Expected    Higher   \n",
       "1    Higher            Later     Lower            Later    Higher   \n",
       "2    Higher         Expected     Lower          Earlier    Higher   \n",
       "3    Higher          Earlier      Same          Earlier     Lower   \n",
       "4    Higher          Earlier    Higher            Later      Same   \n",
       "\n",
       "  Sequence3_Timing Sequence4 Sequence4_Timing Notes     Easiest  \n",
       "0            Later     Lower            Later   NaN  Question 1  \n",
       "1         Expected    Higher            Later   NaN  Question 1  \n",
       "2          Earlier    Higher         Expected   NaN  Question 4  \n",
       "3          Earlier    Higher         Expected   NaN  Question 1  \n",
       "4          Earlier    Higher         Expected   NaN  Question 1  "
      ]
     },
     "execution_count": 532,
     "metadata": {},
     "output_type": "execute_result"
    }
   ],
   "source": [
    "experimentB.head()"
   ]
  },
  {
   "cell_type": "markdown",
   "metadata": {},
   "source": [
    "# Part 1: Exploratory Data Analysis"
   ]
  },
  {
   "cell_type": "markdown",
   "metadata": {},
   "source": [
    "## Data Cleaning"
   ]
  },
  {
   "cell_type": "markdown",
   "metadata": {},
   "source": [
    "In this experiment, participants were given a two note sequance and asked to rate whether the second note was a higher or lower pitch than the first note. This sequance was D, D#, with the correct anwser being HIGHER as D# is higher than D. Participants that failed this inital test are excluded from the analysis."
   ]
  },
  {
   "cell_type": "code",
   "execution_count": 533,
   "metadata": {},
   "outputs": [
    {
     "data": {
      "text/html": [
       "<div>\n",
       "<style scoped>\n",
       "    .dataframe tbody tr th:only-of-type {\n",
       "        vertical-align: middle;\n",
       "    }\n",
       "\n",
       "    .dataframe tbody tr th {\n",
       "        vertical-align: top;\n",
       "    }\n",
       "\n",
       "    .dataframe thead th {\n",
       "        text-align: right;\n",
       "    }\n",
       "</style>\n",
       "<table border=\"1\" class=\"dataframe\">\n",
       "  <thead>\n",
       "    <tr style=\"text-align: right;\">\n",
       "      <th></th>\n",
       "      <th>Gender</th>\n",
       "      <th>Age</th>\n",
       "      <th>Perfect_Pitch</th>\n",
       "      <th>Listen_Music</th>\n",
       "      <th>Played_Instruement</th>\n",
       "      <th>Years</th>\n",
       "      <th>Control</th>\n",
       "      <th>Sequence1</th>\n",
       "      <th>Sequence1_Timing</th>\n",
       "      <th>Sequence2</th>\n",
       "      <th>Sequence2_Timing</th>\n",
       "      <th>Sequence3</th>\n",
       "      <th>Sequence3_Timing</th>\n",
       "      <th>Sequence4</th>\n",
       "      <th>Sequence4_Timing</th>\n",
       "      <th>Notes</th>\n",
       "      <th>Easiest</th>\n",
       "    </tr>\n",
       "  </thead>\n",
       "  <tbody>\n",
       "    <tr>\n",
       "      <th>0</th>\n",
       "      <td>Male</td>\n",
       "      <td>20.0</td>\n",
       "      <td>No</td>\n",
       "      <td>Yes</td>\n",
       "      <td>Yes</td>\n",
       "      <td>5</td>\n",
       "      <td>Higher</td>\n",
       "      <td>Same</td>\n",
       "      <td>Earlier</td>\n",
       "      <td>Lower</td>\n",
       "      <td>Expected</td>\n",
       "      <td>Higher</td>\n",
       "      <td>Later</td>\n",
       "      <td>Lower</td>\n",
       "      <td>Later</td>\n",
       "      <td>NaN</td>\n",
       "      <td>Question 1</td>\n",
       "    </tr>\n",
       "    <tr>\n",
       "      <th>1</th>\n",
       "      <td>Female</td>\n",
       "      <td>20.0</td>\n",
       "      <td>No</td>\n",
       "      <td>Yes</td>\n",
       "      <td>No</td>\n",
       "      <td>0</td>\n",
       "      <td>Higher</td>\n",
       "      <td>Higher</td>\n",
       "      <td>Later</td>\n",
       "      <td>Lower</td>\n",
       "      <td>Later</td>\n",
       "      <td>Higher</td>\n",
       "      <td>Expected</td>\n",
       "      <td>Higher</td>\n",
       "      <td>Later</td>\n",
       "      <td>NaN</td>\n",
       "      <td>Question 1</td>\n",
       "    </tr>\n",
       "    <tr>\n",
       "      <th>2</th>\n",
       "      <td>Male</td>\n",
       "      <td>20.0</td>\n",
       "      <td>No</td>\n",
       "      <td>Yes</td>\n",
       "      <td>Yes</td>\n",
       "      <td>8</td>\n",
       "      <td>Higher</td>\n",
       "      <td>Higher</td>\n",
       "      <td>Expected</td>\n",
       "      <td>Lower</td>\n",
       "      <td>Earlier</td>\n",
       "      <td>Higher</td>\n",
       "      <td>Earlier</td>\n",
       "      <td>Higher</td>\n",
       "      <td>Expected</td>\n",
       "      <td>NaN</td>\n",
       "      <td>Question 4</td>\n",
       "    </tr>\n",
       "    <tr>\n",
       "      <th>4</th>\n",
       "      <td>Male</td>\n",
       "      <td>18.0</td>\n",
       "      <td>No</td>\n",
       "      <td>Yes</td>\n",
       "      <td>Yes</td>\n",
       "      <td>4</td>\n",
       "      <td>Higher</td>\n",
       "      <td>Higher</td>\n",
       "      <td>Earlier</td>\n",
       "      <td>Higher</td>\n",
       "      <td>Later</td>\n",
       "      <td>Same</td>\n",
       "      <td>Earlier</td>\n",
       "      <td>Higher</td>\n",
       "      <td>Expected</td>\n",
       "      <td>NaN</td>\n",
       "      <td>Question 1</td>\n",
       "    </tr>\n",
       "    <tr>\n",
       "      <th>5</th>\n",
       "      <td>Female</td>\n",
       "      <td>20.0</td>\n",
       "      <td>No</td>\n",
       "      <td>Yes</td>\n",
       "      <td>Yes</td>\n",
       "      <td>3</td>\n",
       "      <td>Higher</td>\n",
       "      <td>Higher</td>\n",
       "      <td>Expected</td>\n",
       "      <td>Lower</td>\n",
       "      <td>Earlier</td>\n",
       "      <td>Higher</td>\n",
       "      <td>Expected</td>\n",
       "      <td>Higher</td>\n",
       "      <td>Expected</td>\n",
       "      <td>NaN</td>\n",
       "      <td>Question 1</td>\n",
       "    </tr>\n",
       "  </tbody>\n",
       "</table>\n",
       "</div>"
      ],
      "text/plain": [
       "   Gender   Age Perfect_Pitch Listen_Music Played_Instruement  Years Control  \\\n",
       "0    Male  20.0            No          Yes                Yes      5  Higher   \n",
       "1  Female  20.0            No          Yes                 No      0  Higher   \n",
       "2    Male  20.0            No          Yes                Yes      8  Higher   \n",
       "4    Male  18.0            No          Yes                Yes      4  Higher   \n",
       "5  Female  20.0            No          Yes                Yes      3  Higher   \n",
       "\n",
       "  Sequence1 Sequence1_Timing Sequence2 Sequence2_Timing Sequence3  \\\n",
       "0      Same          Earlier     Lower         Expected    Higher   \n",
       "1    Higher            Later     Lower            Later    Higher   \n",
       "2    Higher         Expected     Lower          Earlier    Higher   \n",
       "4    Higher          Earlier    Higher            Later      Same   \n",
       "5    Higher         Expected     Lower          Earlier    Higher   \n",
       "\n",
       "  Sequence3_Timing Sequence4 Sequence4_Timing Notes     Easiest  \n",
       "0            Later     Lower            Later   NaN  Question 1  \n",
       "1         Expected    Higher            Later   NaN  Question 1  \n",
       "2          Earlier    Higher         Expected   NaN  Question 4  \n",
       "4          Earlier    Higher         Expected   NaN  Question 1  \n",
       "5         Expected    Higher         Expected   NaN  Question 1  "
      ]
     },
     "execution_count": 533,
     "metadata": {},
     "output_type": "execute_result"
    }
   ],
   "source": [
    "experimentB = experimentB[experimentB['Control'] == \"Higher\"]\n",
    "experimentB.head()\n"
   ]
  },
  {
   "cell_type": "code",
   "execution_count": 534,
   "metadata": {},
   "outputs": [
    {
     "data": {
      "text/html": [
       "<div>\n",
       "<style scoped>\n",
       "    .dataframe tbody tr th:only-of-type {\n",
       "        vertical-align: middle;\n",
       "    }\n",
       "\n",
       "    .dataframe tbody tr th {\n",
       "        vertical-align: top;\n",
       "    }\n",
       "\n",
       "    .dataframe thead th {\n",
       "        text-align: right;\n",
       "    }\n",
       "</style>\n",
       "<table border=\"1\" class=\"dataframe\">\n",
       "  <thead>\n",
       "    <tr style=\"text-align: right;\">\n",
       "      <th></th>\n",
       "      <th>Gender</th>\n",
       "      <th>Age</th>\n",
       "      <th>Perfect_Pitch</th>\n",
       "      <th>Listen_Music</th>\n",
       "      <th>Played_Instruement</th>\n",
       "      <th>Years</th>\n",
       "      <th>Control</th>\n",
       "      <th>Sequence1</th>\n",
       "      <th>Sequence1_Timing</th>\n",
       "      <th>Sequence2</th>\n",
       "      <th>Sequence2_Timing</th>\n",
       "      <th>Sequence3</th>\n",
       "      <th>Sequence3_Timing</th>\n",
       "      <th>Sequence4</th>\n",
       "      <th>Sequence4_Timing</th>\n",
       "      <th>Notes</th>\n",
       "      <th>Easiest</th>\n",
       "    </tr>\n",
       "  </thead>\n",
       "  <tbody>\n",
       "    <tr>\n",
       "      <th>0</th>\n",
       "      <td>Male</td>\n",
       "      <td>20.0</td>\n",
       "      <td>No</td>\n",
       "      <td>Yes</td>\n",
       "      <td>Yes</td>\n",
       "      <td>5</td>\n",
       "      <td>Higher</td>\n",
       "      <td>Incorrect</td>\n",
       "      <td>Earlier</td>\n",
       "      <td>Correct</td>\n",
       "      <td>Expected</td>\n",
       "      <td>Correct</td>\n",
       "      <td>Later</td>\n",
       "      <td>Incorrect</td>\n",
       "      <td>Later</td>\n",
       "      <td>NaN</td>\n",
       "      <td>Question 1</td>\n",
       "    </tr>\n",
       "    <tr>\n",
       "      <th>1</th>\n",
       "      <td>Female</td>\n",
       "      <td>20.0</td>\n",
       "      <td>No</td>\n",
       "      <td>Yes</td>\n",
       "      <td>No</td>\n",
       "      <td>0</td>\n",
       "      <td>Higher</td>\n",
       "      <td>Correct</td>\n",
       "      <td>Later</td>\n",
       "      <td>Correct</td>\n",
       "      <td>Later</td>\n",
       "      <td>Correct</td>\n",
       "      <td>Expected</td>\n",
       "      <td>Correct</td>\n",
       "      <td>Later</td>\n",
       "      <td>NaN</td>\n",
       "      <td>Question 1</td>\n",
       "    </tr>\n",
       "    <tr>\n",
       "      <th>2</th>\n",
       "      <td>Male</td>\n",
       "      <td>20.0</td>\n",
       "      <td>No</td>\n",
       "      <td>Yes</td>\n",
       "      <td>Yes</td>\n",
       "      <td>8</td>\n",
       "      <td>Higher</td>\n",
       "      <td>Correct</td>\n",
       "      <td>Expected</td>\n",
       "      <td>Correct</td>\n",
       "      <td>Earlier</td>\n",
       "      <td>Correct</td>\n",
       "      <td>Earlier</td>\n",
       "      <td>Correct</td>\n",
       "      <td>Expected</td>\n",
       "      <td>NaN</td>\n",
       "      <td>Question 4</td>\n",
       "    </tr>\n",
       "    <tr>\n",
       "      <th>4</th>\n",
       "      <td>Male</td>\n",
       "      <td>18.0</td>\n",
       "      <td>No</td>\n",
       "      <td>Yes</td>\n",
       "      <td>Yes</td>\n",
       "      <td>4</td>\n",
       "      <td>Higher</td>\n",
       "      <td>Correct</td>\n",
       "      <td>Earlier</td>\n",
       "      <td>Incorrect</td>\n",
       "      <td>Later</td>\n",
       "      <td>Incorrect</td>\n",
       "      <td>Earlier</td>\n",
       "      <td>Correct</td>\n",
       "      <td>Expected</td>\n",
       "      <td>NaN</td>\n",
       "      <td>Question 1</td>\n",
       "    </tr>\n",
       "    <tr>\n",
       "      <th>5</th>\n",
       "      <td>Female</td>\n",
       "      <td>20.0</td>\n",
       "      <td>No</td>\n",
       "      <td>Yes</td>\n",
       "      <td>Yes</td>\n",
       "      <td>3</td>\n",
       "      <td>Higher</td>\n",
       "      <td>Correct</td>\n",
       "      <td>Expected</td>\n",
       "      <td>Correct</td>\n",
       "      <td>Earlier</td>\n",
       "      <td>Correct</td>\n",
       "      <td>Expected</td>\n",
       "      <td>Correct</td>\n",
       "      <td>Expected</td>\n",
       "      <td>NaN</td>\n",
       "      <td>Question 1</td>\n",
       "    </tr>\n",
       "  </tbody>\n",
       "</table>\n",
       "</div>"
      ],
      "text/plain": [
       "   Gender   Age Perfect_Pitch Listen_Music Played_Instruement  Years Control  \\\n",
       "0    Male  20.0            No          Yes                Yes      5  Higher   \n",
       "1  Female  20.0            No          Yes                 No      0  Higher   \n",
       "2    Male  20.0            No          Yes                Yes      8  Higher   \n",
       "4    Male  18.0            No          Yes                Yes      4  Higher   \n",
       "5  Female  20.0            No          Yes                Yes      3  Higher   \n",
       "\n",
       "   Sequence1 Sequence1_Timing  Sequence2 Sequence2_Timing  Sequence3  \\\n",
       "0  Incorrect          Earlier    Correct         Expected    Correct   \n",
       "1    Correct            Later    Correct            Later    Correct   \n",
       "2    Correct         Expected    Correct          Earlier    Correct   \n",
       "4    Correct          Earlier  Incorrect            Later  Incorrect   \n",
       "5    Correct         Expected    Correct          Earlier    Correct   \n",
       "\n",
       "  Sequence3_Timing  Sequence4 Sequence4_Timing Notes     Easiest  \n",
       "0            Later  Incorrect            Later   NaN  Question 1  \n",
       "1         Expected    Correct            Later   NaN  Question 1  \n",
       "2          Earlier    Correct         Expected   NaN  Question 4  \n",
       "4          Earlier    Correct         Expected   NaN  Question 1  \n",
       "5         Expected    Correct         Expected   NaN  Question 1  "
      ]
     },
     "execution_count": 534,
     "metadata": {},
     "output_type": "execute_result"
    }
   ],
   "source": [
    "experimentB.loc[(experimentB.Sequence1 != 'Higher'),'Sequence1']='Incorrect'\n",
    "experimentB.loc[(experimentB.Sequence1 == 'Higher'),'Sequence1']='Correct'\n",
    "\n",
    "experimentB.loc[(experimentB.Sequence2 != 'Lower'),'Sequence2']='Incorrect'\n",
    "experimentB.loc[(experimentB.Sequence2 == 'Lower'),'Sequence2']='Correct'\n",
    "\n",
    "experimentB.loc[(experimentB.Sequence3 != 'Higher'),'Sequence3']='Incorrect'\n",
    "experimentB.loc[(experimentB.Sequence3 == 'Higher'),'Sequence3']='Correct'\n",
    "\n",
    "experimentB.loc[(experimentB.Sequence4 != 'Higher'),'Sequence4']='Incorrect'\n",
    "experimentB.loc[(experimentB.Sequence4 == 'Higher'),'Sequence4']='Correct'\n",
    "\n",
    "\n",
    "experimentB.head()"
   ]
  },
  {
   "cell_type": "markdown",
   "metadata": {},
   "source": [
    "## Looking at the Big Picture"
   ]
  },
  {
   "cell_type": "markdown",
   "metadata": {},
   "source": [
    "### Demographical Snapshot"
   ]
  },
  {
   "cell_type": "markdown",
   "metadata": {},
   "source": [
    "Participants are first split up based on demographical data in order to surface up any abnormalities that would warrant future individual investigation. This also gives us a good picture/snapshot of the underlying distribution we are looking at. \n",
    "\n"
   ]
  },
  {
   "cell_type": "markdown",
   "metadata": {},
   "source": [
    "#### Male"
   ]
  },
  {
   "cell_type": "code",
   "execution_count": 535,
   "metadata": {},
   "outputs": [],
   "source": [
    "experimentB_Male = experimentB[experimentB['Gender'] == \"Male\"]"
   ]
  },
  {
   "cell_type": "code",
   "execution_count": 536,
   "metadata": {},
   "outputs": [
    {
     "data": {
      "text/plain": [
       "18"
      ]
     },
     "execution_count": 536,
     "metadata": {},
     "output_type": "execute_result"
    }
   ],
   "source": [
    "#Number of Particpants\n",
    "experimentB_Male.shape[0]"
   ]
  },
  {
   "cell_type": "code",
   "execution_count": 537,
   "metadata": {},
   "outputs": [
    {
     "data": {
      "text/plain": [
       "Age    21.0\n",
       "dtype: float64"
      ]
     },
     "execution_count": 537,
     "metadata": {},
     "output_type": "execute_result"
    }
   ],
   "source": [
    "#Average Age\n",
    "experimentB_Male[['Age']].mean()"
   ]
  },
  {
   "cell_type": "code",
   "execution_count": 538,
   "metadata": {},
   "outputs": [
    {
     "data": {
      "text/plain": [
       "Years    9.444444\n",
       "dtype: float64"
      ]
     },
     "execution_count": 538,
     "metadata": {},
     "output_type": "execute_result"
    }
   ],
   "source": [
    "#Average Years of Musical Training\n",
    "experimentB_Male[['Years']].mean()"
   ]
  },
  {
   "cell_type": "markdown",
   "metadata": {},
   "source": [
    "#### Female"
   ]
  },
  {
   "cell_type": "code",
   "execution_count": 539,
   "metadata": {},
   "outputs": [],
   "source": [
    "experimentB_Female = experimentB[experimentB['Gender'] == \"Female\"]"
   ]
  },
  {
   "cell_type": "code",
   "execution_count": 540,
   "metadata": {},
   "outputs": [
    {
     "data": {
      "text/plain": [
       "15"
      ]
     },
     "execution_count": 540,
     "metadata": {},
     "output_type": "execute_result"
    }
   ],
   "source": [
    "#Number of Particpants\n",
    "experimentB_Female.shape[0]"
   ]
  },
  {
   "cell_type": "code",
   "execution_count": 541,
   "metadata": {},
   "outputs": [
    {
     "data": {
      "text/plain": [
       "Age    21.357143\n",
       "dtype: float64"
      ]
     },
     "execution_count": 541,
     "metadata": {},
     "output_type": "execute_result"
    }
   ],
   "source": [
    "#Average Age\n",
    "experimentB_Female[['Age']].mean()"
   ]
  },
  {
   "cell_type": "code",
   "execution_count": 542,
   "metadata": {},
   "outputs": [
    {
     "data": {
      "text/plain": [
       "Years    6.8\n",
       "dtype: float64"
      ]
     },
     "execution_count": 542,
     "metadata": {},
     "output_type": "execute_result"
    }
   ],
   "source": [
    "#Average Years of Musical Training\n",
    "experimentB_Female[['Years']].mean()"
   ]
  },
  {
   "cell_type": "markdown",
   "metadata": {},
   "source": [
    "### Music Background Snapshot"
   ]
  },
  {
   "cell_type": "markdown",
   "metadata": {},
   "source": [
    "#### Listened to Music?"
   ]
  },
  {
   "cell_type": "code",
   "execution_count": 543,
   "metadata": {},
   "outputs": [
    {
     "data": {
      "text/plain": [
       "0.9393939393939394"
      ]
     },
     "execution_count": 543,
     "metadata": {},
     "output_type": "execute_result"
    }
   ],
   "source": [
    "#Percentage of Overall Sample that Listened to Music Regularly\n",
    "experimentB[experimentB['Listen_Music'] == \"Yes\"].shape[0]/experimentB.shape[0]"
   ]
  },
  {
   "cell_type": "markdown",
   "metadata": {},
   "source": [
    "#### Played an instrument?"
   ]
  },
  {
   "cell_type": "code",
   "execution_count": 544,
   "metadata": {},
   "outputs": [
    {
     "data": {
      "text/plain": [
       "0.8181818181818182"
      ]
     },
     "execution_count": 544,
     "metadata": {},
     "output_type": "execute_result"
    }
   ],
   "source": [
    "#Percentage of Overall Sample that Listened to Music Regularly\n",
    "experimentB[experimentB['Played_Instruement'] == \"Yes\"].shape[0]/experimentB.shape[0]"
   ]
  },
  {
   "cell_type": "markdown",
   "metadata": {},
   "source": [
    "#### Average Years of Musical training (all samples)"
   ]
  },
  {
   "cell_type": "code",
   "execution_count": 545,
   "metadata": {},
   "outputs": [
    {
     "data": {
      "text/plain": [
       "Years    8.242424\n",
       "dtype: float64"
      ]
     },
     "execution_count": 545,
     "metadata": {},
     "output_type": "execute_result"
    }
   ],
   "source": [
    "experimentB[[\"Years\"]].mean()"
   ]
  },
  {
   "cell_type": "markdown",
   "metadata": {},
   "source": [
    "## Looking at the Big Picture Conclusions (After data cleaning):\n",
    "- The number of participants were 36 in total orignally, but 3 were removed due to failing the control sequence.\n",
    "- 18 male participants and 15 female particpants were included in this study. The average was was about 21 for both genders.\n",
    "- Men had an average of 9 years of musical training, and women 7 years of musical training.\n",
    "- Almost everyone listened to music regularly (94%), and played an instruement at some time (82%) in their life.\n"
   ]
  },
  {
   "cell_type": "markdown",
   "metadata": {},
   "source": [
    "## Correctness Snapshot"
   ]
  },
  {
   "cell_type": "markdown",
   "metadata": {},
   "source": [
    "The proportion of correct versus incorrect responses are now looked at for each musical sequance that was played. A graph depicting these results are displayed.\n",
    "\n",
    "Participants were also asked if they felt if the comparison tone (last note) arrived earlier, later, or as expected when compared to the rest of the sequance. Here, we also look at how participants responded."
   ]
  },
  {
   "cell_type": "markdown",
   "metadata": {},
   "source": [
    "### Sequence 1 (Normal Metric Position): \n",
    "##### 87% correctly identified the correct pitch.\n",
    "F# F D E# G F# D# E F# G (G HIGHER than F#)"
   ]
  },
  {
   "cell_type": "code",
   "execution_count": 546,
   "metadata": {},
   "outputs": [
    {
     "data": {
      "text/plain": [
       "87.87878787878788"
      ]
     },
     "execution_count": 546,
     "metadata": {},
     "output_type": "execute_result"
    }
   ],
   "source": [
    "sequence1_all = experimentB[experimentB['Sequence1'] == \"Correct\"].shape[0]/experimentB.shape[0] * 100\n",
    "sequence1_all"
   ]
  },
  {
   "cell_type": "markdown",
   "metadata": {},
   "source": [
    "##### 42% correctly identified the correct timing."
   ]
  },
  {
   "cell_type": "code",
   "execution_count": 547,
   "metadata": {},
   "outputs": [
    {
     "data": {
      "text/plain": [
       "42.42424242424242"
      ]
     },
     "execution_count": 547,
     "metadata": {},
     "output_type": "execute_result"
    }
   ],
   "source": [
    "# Timing: Correct Response\n",
    "sequence1_all_timing_expected = experimentB[experimentB['Sequence1_Timing'] == \"Expected\"].shape[0]/experimentB.shape[0] * 100\n",
    "sequence1_all_timing_expected"
   ]
  },
  {
   "cell_type": "markdown",
   "metadata": {},
   "source": [
    "### Sequence 2 (Very Early): \n",
    "##### 70% correctly identified the correct pitch\n",
    "G F D E# G F# D# E G F# (F# is LOWER than G)"
   ]
  },
  {
   "cell_type": "code",
   "execution_count": 548,
   "metadata": {},
   "outputs": [
    {
     "data": {
      "text/plain": [
       "69.6969696969697"
      ]
     },
     "execution_count": 548,
     "metadata": {},
     "output_type": "execute_result"
    }
   ],
   "source": [
    "sequence2_all = experimentB[experimentB['Sequence2'] == \"Correct\"].shape[0]/experimentB.shape[0] * 100\n",
    "sequence2_all"
   ]
  },
  {
   "cell_type": "markdown",
   "metadata": {},
   "source": [
    "##### 45% correctly identified the timing"
   ]
  },
  {
   "cell_type": "code",
   "execution_count": 549,
   "metadata": {},
   "outputs": [
    {
     "data": {
      "text/plain": [
       "45.45454545454545"
      ]
     },
     "execution_count": 549,
     "metadata": {},
     "output_type": "execute_result"
    }
   ],
   "source": [
    "sequence2_all_timing_earlier = experimentB[experimentB['Sequence2_Timing'] == \"Earlier\"].shape[0]/experimentB.shape[0] * 100\n",
    "sequence2_all_timing_earlier"
   ]
  },
  {
   "cell_type": "markdown",
   "metadata": {},
   "source": [
    "### Sequence 3 (Irregular): \n",
    "##### 64% correctly identified the pitch\n",
    "E F D E# G F# D# E F (F HIGHER than E)"
   ]
  },
  {
   "cell_type": "code",
   "execution_count": 550,
   "metadata": {},
   "outputs": [
    {
     "data": {
      "text/plain": [
       "63.63636363636363"
      ]
     },
     "execution_count": 550,
     "metadata": {},
     "output_type": "execute_result"
    }
   ],
   "source": [
    "sequence3_all = experimentB[experimentB['Sequence3'] == \"Correct\"].shape[0]/experimentB.shape[0] * 100\n",
    "sequence3_all"
   ]
  },
  {
   "cell_type": "markdown",
   "metadata": {},
   "source": [
    "### Sequence 4 (Very Late):\n",
    "##### 85% correctly identified the pitch\n",
    "F# E D E# G F D# E F# G (G HIGHER than F#)"
   ]
  },
  {
   "cell_type": "code",
   "execution_count": 551,
   "metadata": {},
   "outputs": [
    {
     "data": {
      "text/plain": [
       "84.84848484848484"
      ]
     },
     "execution_count": 551,
     "metadata": {},
     "output_type": "execute_result"
    }
   ],
   "source": [
    "sequence4_all = experimentB[experimentB['Sequence4'] == \"Correct\"].shape[0]/experimentB.shape[0] * 100\n",
    "sequence4_all"
   ]
  },
  {
   "cell_type": "markdown",
   "metadata": {},
   "source": [
    "##### 21% correctly identified the timing"
   ]
  },
  {
   "cell_type": "code",
   "execution_count": 552,
   "metadata": {},
   "outputs": [
    {
     "data": {
      "text/plain": [
       "21.21212121212121"
      ]
     },
     "execution_count": 552,
     "metadata": {},
     "output_type": "execute_result"
    }
   ],
   "source": [
    "# Timing: Correct Response\n",
    "sequence4_all_timing_later = experimentB[experimentB['Sequence4_Timing'] == \"Later\"].shape[0]/experimentB.shape[0] * 100\n",
    "sequence4_all_timing_later"
   ]
  },
  {
   "cell_type": "code",
   "execution_count": 553,
   "metadata": {},
   "outputs": [
    {
     "data": {
      "text/plain": [
       "Text(0.5, 1.0, 'Graph of % correct identifying pitch vs metric position(timing)')"
      ]
     },
     "execution_count": 553,
     "metadata": {},
     "output_type": "execute_result"
    },
    {
     "data": {
      "image/png": "[encoded data removed]",
      "text/plain": [
       "<Figure size 432x288 with 1 Axes>"
      ]
     },
     "metadata": {
      "needs_background": "light"
     },
     "output_type": "display_data"
    }
   ],
   "source": [
    "experimentB_all_bar = pd.DataFrame({'Metric Position':['Very Early','On-Time','Verly Late','Irregular'], 'Percentage Correct':[sequence2_all,sequence1_all,sequence4_all,sequence3_all]})\n",
    "ax = experimentB_all_bar.plot.bar(x='Metric Position', y='Percentage Correct', rot=0)\n",
    "ax.set_title('Graph of % correct identifying pitch vs metric position(timing)')\n"
   ]
  },
  {
   "cell_type": "markdown",
   "metadata": {},
   "source": [
    "# Part 2 Data Analysis:"
   ]
  },
  {
   "cell_type": "markdown",
   "metadata": {},
   "source": [
    "## Hypothesis (A/B) Testing:\n",
    "Null: The timing of the comparison tone (the last note) relatively to the distracting tones (notes in the middle)\n",
    "does not affect a participants performance in determining if the comparison tone is higher/lower/same in pitch\n",
    "than than the standard tone."
   ]
  },
  {
   "cell_type": "code",
   "execution_count": 554,
   "metadata": {},
   "outputs": [],
   "source": [
    "test_statistics = []\n",
    "sampling_array = np.append(experimentB[\"Sequence1\"].array,experimentB[\"Sequence2\"].array)\n",
    "sampling_array = np.append(sampling_array,experimentB[\"Sequence3\"].array)\n",
    "sampling_array = np.append(sampling_array,experimentB[\"Sequence4\"].array)\n"
   ]
  },
  {
   "cell_type": "code",
   "execution_count": 555,
   "metadata": {},
   "outputs": [],
   "source": [
    "\n",
    "def observerd_statistic_cacl(seq='Sequence3'):\n",
    "## Returns the observered statistic, which in this case is the\n",
    "## % correct of the specific sequance OR % correct of Sequance 3 (normal metric position)\n",
    "    sequance_test = experimentB[seq].values\n",
    "    percent_correct = np.count_nonzero(sequance_test==\"Correct\")/len(sequance_test)\n",
    "    return percent_correct\n",
    "    "
   ]
  },
  {
   "cell_type": "code",
   "execution_count": 556,
   "metadata": {},
   "outputs": [],
   "source": [
    "def a_b_test(seq=None,general=True):\n",
    "    ##Calculates the test statistic between a sequance and general distribution.\n",
    "    \n",
    "   \n",
    "    if general != True:\n",
    "        sequance_test = experimentB[seq].sample(n=experimentB.shape[0],replace=True).values\n",
    "        #Pecent correct in specific sequance distribution\n",
    "        unique, counts = np.unique(sequance_test, return_counts=True)\n",
    "        result = dict(zip(unique, counts))\n",
    "        try:\n",
    "            percent_correct = result['Correct']/len(sequance_test)\n",
    "        except:\n",
    "            percent_correct = 0\n",
    "    else:\n",
    "        #Percent correct in overall distribution    \n",
    "        general_test = np.random.choice(sampling_array,size=experimentB.shape[0],replace=True)\n",
    "        unique1, counts1 = np.unique(general_test, return_counts=True)\n",
    "        result1 = dict(zip(unique1, counts1))\n",
    "        try:\n",
    "            percent_correct = result1['Correct']/len(general_test)\n",
    "        except:\n",
    "            percent_correct= 0\n",
    "\n",
    "    \n",
    "    #Calculate test statistic\n",
    "    test_statistic = percent_correct\n",
    "    return np.array([test_statistic])\n",
    "    \n"
   ]
  },
  {
   "cell_type": "markdown",
   "metadata": {},
   "source": [
    "### Sequence 1 (Normal Metric Position):  87%\n",
    "F# F D E# G F# D# E F# G (G HIGHER than F#)"
   ]
  },
  {
   "cell_type": "code",
   "execution_count": 557,
   "metadata": {},
   "outputs": [
    {
     "data": {
      "text/plain": [
       "0.03200000000000003"
      ]
     },
     "execution_count": 557,
     "metadata": {},
     "output_type": "execute_result"
    }
   ],
   "source": [
    "observed_statistic = observerd_statistic_cacl(\"Sequence1\")\n",
    "test_statistics = np.array([])\n",
    "for i in range(0,1000):\n",
    "    test_statistics = np.concatenate((test_statistics,a_b_test()))\n",
    "    \n",
    "p_value = 1 - np.count_nonzero(observed_statistic >= test_statistics)/1000\n",
    "p_value"
   ]
  },
  {
   "cell_type": "markdown",
   "metadata": {},
   "source": [
    "#### Sequence 1 Conclusion: \n",
    "Statistically Significant when compared to general distribution."
   ]
  },
  {
   "cell_type": "markdown",
   "metadata": {},
   "source": [
    "### Sequence 2 (Very Early): 70%\n",
    "G F D E# G F# D# E G F# (F# is LOWER than G)"
   ]
  },
  {
   "cell_type": "markdown",
   "metadata": {},
   "source": [
    "Comparing very early with general distribution"
   ]
  },
  {
   "cell_type": "code",
   "execution_count": 558,
   "metadata": {},
   "outputs": [
    {
     "data": {
      "text/plain": [
       "0.14200000000000002"
      ]
     },
     "execution_count": 558,
     "metadata": {},
     "output_type": "execute_result"
    }
   ],
   "source": [
    "observed_statistic = observerd_statistic_cacl(\"Sequence2\")\n",
    "\n",
    "test_statistics = np.array([])\n",
    "for i in range(0,1000):\n",
    "    test_statistics = np.concatenate((test_statistics,a_b_test()))\n",
    "    \n",
    "p_value = 1- np.count_nonzero(observed_statistic <= test_statistics)/1000\n",
    "p_value"
   ]
  },
  {
   "cell_type": "markdown",
   "metadata": {},
   "source": [
    "Comparing very early with on time distribution"
   ]
  },
  {
   "cell_type": "code",
   "execution_count": 559,
   "metadata": {},
   "outputs": [
    {
     "data": {
      "text/plain": [
       "0.0040000000000000036"
      ]
     },
     "execution_count": 559,
     "metadata": {},
     "output_type": "execute_result"
    }
   ],
   "source": [
    "observed_statistic = observerd_statistic_cacl(\"Sequence1\")\n",
    "test_statistics = np.array([])\n",
    "for i in range(0,1000):\n",
    "    test_statistics = np.concatenate((test_statistics,a_b_test(\"Sequence2\",False)))\n",
    "    \n",
    "p_value = 1 - np.count_nonzero(observed_statistic >= test_statistics)/1000\n",
    "p_value"
   ]
  },
  {
   "cell_type": "markdown",
   "metadata": {},
   "source": [
    "#### Sequence 2 Conclusion: \n",
    "Not statistically significant when compared to general distribution, but \n",
    "statistically significant when compared to precise metric position."
   ]
  },
  {
   "cell_type": "markdown",
   "metadata": {},
   "source": [
    "### Sequence 3 (Irregular):  64%\n",
    "E F D E# G F# D# E F (F HIGHER than E)"
   ]
  },
  {
   "cell_type": "markdown",
   "metadata": {},
   "source": [
    "Comparing irregular with general distribution"
   ]
  },
  {
   "cell_type": "code",
   "execution_count": 560,
   "metadata": {},
   "outputs": [
    {
     "name": "stdout",
     "output_type": "stream",
     "text": [
      "0.6363636363636364\n"
     ]
    },
    {
     "data": {
      "text/plain": [
       "0.064"
      ]
     },
     "execution_count": 560,
     "metadata": {},
     "output_type": "execute_result"
    }
   ],
   "source": [
    "observed_statistic = observerd_statistic_cacl(\"Sequence3\")\n",
    "test_statistics = np.array([])\n",
    "for i in range(0,1000):\n",
    "    test_statistics = np.concatenate((test_statistics,a_b_test()))\n",
    "    \n",
    "p_value = np.count_nonzero(test_statistics <= observed_statistic)/1000\n",
    "p_value"
   ]
  },
  {
   "cell_type": "markdown",
   "metadata": {},
   "source": [
    "Comparing irregular with on time distribution"
   ]
  },
  {
   "cell_type": "code",
   "execution_count": 561,
   "metadata": {},
   "outputs": [
    {
     "data": {
      "text/plain": [
       "0.0"
      ]
     },
     "execution_count": 561,
     "metadata": {},
     "output_type": "execute_result"
    }
   ],
   "source": [
    "observed_statistic = observerd_statistic_cacl(\"Sequence1\")\n",
    "test_statistics = np.array([])\n",
    "for i in range(0,1000):\n",
    "    test_statistics = np.concatenate((test_statistics,a_b_test(\"Sequence3\",False)))\n",
    "    \n",
    "p_value = 1 - np.count_nonzero(observed_statistic >= test_statistics)/1000\n",
    "p_value"
   ]
  },
  {
   "cell_type": "markdown",
   "metadata": {},
   "source": [
    "#### Sequence 3: Conclusion: \n",
    "Statistically Significant when compared to general distribution and precise metric position."
   ]
  },
  {
   "cell_type": "markdown",
   "metadata": {},
   "source": [
    "## Sequence 4 (Very Late): 85%\n",
    "F# E D E# G F D# E F# G (G HIGHER than F#)"
   ]
  },
  {
   "cell_type": "markdown",
   "metadata": {},
   "source": [
    "Comparing very late with general distribution"
   ]
  },
  {
   "cell_type": "code",
   "execution_count": 562,
   "metadata": {},
   "outputs": [
    {
     "name": "stdout",
     "output_type": "stream",
     "text": [
      "0.8484848484848485\n"
     ]
    },
    {
     "data": {
      "text/plain": [
       "0.08899999999999997"
      ]
     },
     "execution_count": 562,
     "metadata": {},
     "output_type": "execute_result"
    }
   ],
   "source": [
    "observed_statistic = observerd_statistic_cacl(\"Sequence4\")\n",
    "print(observed_statistic)\n",
    "test_statistics = np.array([])\n",
    "for i in range(0,1000):\n",
    "    test_statistics = np.concatenate((test_statistics,a_b_test()))\n",
    "    \n",
    "p_value = 1- np.count_nonzero(observed_statistic >= test_statistics)/1000\n",
    "p_value"
   ]
  },
  {
   "cell_type": "markdown",
   "metadata": {},
   "source": [
    "Comparing very late with on time distribution"
   ]
  },
  {
   "cell_type": "code",
   "execution_count": 563,
   "metadata": {},
   "outputs": [
    {
     "data": {
      "text/plain": [
       "0.23299999999999998"
      ]
     },
     "execution_count": 563,
     "metadata": {},
     "output_type": "execute_result"
    }
   ],
   "source": [
    "observed_statistic = observerd_statistic_cacl(\"Sequence1\")\n",
    "test_statistics = np.array([])\n",
    "for i in range(0,1000):\n",
    "    test_statistics = np.concatenate((test_statistics,a_b_test(\"Sequence4\",False)))\n",
    "    \n",
    "p_value = 1 - np.count_nonzero(observed_statistic >= test_statistics)/1000\n",
    "p_value"
   ]
  },
  {
   "cell_type": "markdown",
   "metadata": {},
   "source": [
    "#### Sequence 4 Conclusion:\n",
    "Not statistically significant in any comparison, though the data suggests a trend."
   ]
  },
  {
   "cell_type": "markdown",
   "metadata": {},
   "source": [
    "### Hypothesis Testing Conclusion:\n",
    "- When tones were played at the precise metric position, the results were statistically significant. That is, when comapred to the overall distribution, when hearing the tone at the exact/expected timing, participants tend to perform better in determining pitch.\n",
    "- When the tone was played earlier, participants on average performed worse when compared to when the tone arrived at the precise metric position. This result was also statistically significant.\n",
    "- When the tone was irregular, participants on average performed worse when compared to both the overall distribution and when the tone was played at the precise metric position. This was also statistically significant. \n",
    "- I did not find statistically significant results when looking at the tone was played later, though the data suggests that participants did perform worse when compared to when the tone arrived at the precise metric position."
   ]
  },
  {
   "cell_type": "markdown",
   "metadata": {},
   "source": [
    "## Further Analysis: Effect of Correctly Identfying Timing and Pitch\n",
    "Here we look further at more closely if whether there is correlation between whether a participant correctly determined the arrival sequance of the note (earlier, later, or expected) and if they anwsered correctly. That is, I look at the number of people who anwser both the timing and pitch question correctly and compare it with the number of people who only anwsered the pitch question correctly."
   ]
  },
  {
   "cell_type": "code",
   "execution_count": 581,
   "metadata": {},
   "outputs": [],
   "source": [
    "def a_b_test_performance(correct_timing,seq):\n",
    "    sequance_test = correct_timing[seq].sample(n=correct_timing.shape[0],replace=True).values\n",
    "    general_test = experimentB[seq].sample(n=experimentB.shape[0],replace=True).values\n",
    "\n",
    "    #Pecent correct in specific sequanfe distribution\n",
    "    unique, counts = np.unique(sequance_test, return_counts=True)\n",
    "    result = dict(zip(unique, counts))\n",
    "    try:\n",
    "        percent_correct_sequance = result['Correct']/len(sequance_test)\n",
    "    except:\n",
    "        percent_correct_sequance = 0\n",
    "\n",
    "    #Percent correct in overall distribution    \n",
    "    unique1, counts1 = np.unique(general_test, return_counts=True)\n",
    "    result1 = dict(zip(unique1, counts1))\n",
    "    try:\n",
    "        percent_correct_general = result1['Correct']/len(general_test)\n",
    "    except:\n",
    "        percent_correct_general = 0\n",
    "\n",
    "\n",
    "    #Calculate test statistic (percent correct sequance - percent correct general distribution)\n",
    "    test_statistic = percent_correct_general\n",
    "\n",
    "    return np.array([test_statistic])\n"
   ]
  },
  {
   "cell_type": "markdown",
   "metadata": {},
   "source": [
    "### Sequence 1 (Normal Metric Position)\n"
   ]
  },
  {
   "cell_type": "code",
   "execution_count": 582,
   "metadata": {},
   "outputs": [
    {
     "data": {
      "text/plain": [
       "100.0"
      ]
     },
     "execution_count": 582,
     "metadata": {},
     "output_type": "execute_result"
    }
   ],
   "source": [
    "seq1_correct_timing = experimentB[experimentB['Sequence1_Timing'] == \"Expected\"]\n",
    "seq1_correct_timing[seq1_correct_timing[\"Sequence1\"] == \"Correct\"].shape[0]/seq1_correct_timing.shape[0]*100"
   ]
  },
  {
   "cell_type": "code",
   "execution_count": 584,
   "metadata": {},
   "outputs": [
    {
     "data": {
      "text/plain": [
       "78.94736842105263"
      ]
     },
     "execution_count": 584,
     "metadata": {},
     "output_type": "execute_result"
    }
   ],
   "source": [
    "seq1_correct_timing = experimentB[experimentB['Sequence1_Timing'] != \"Expected\"]\n",
    "seq1_correct_timing[seq1_correct_timing[\"Sequence1\"] == \"Correct\"].shape[0]/seq1_correct_timing.shape[0]*100"
   ]
  },
  {
   "cell_type": "code",
   "execution_count": 583,
   "metadata": {},
   "outputs": [
    {
     "data": {
      "text/plain": [
       "0.015"
      ]
     },
     "execution_count": 583,
     "metadata": {},
     "output_type": "execute_result"
    }
   ],
   "source": [
    "a = seq1_correct_timing[seq1_correct_timing[\"Sequence1\"] == \"Correct\"].shape[0]/seq1_correct_timing.shape[0]\n",
    "b = experimentB[experimentB['Sequence1'] == \"Correct\"].shape[0]/experimentB.shape[0]\n",
    "observed = a\n",
    "\n",
    "test_statistics = np.array([])\n",
    "for i in range(0,1000):\n",
    "    test_statistics = np.concatenate((test_statistics,a_b_test_performance(seq1_correct_timing,\"Sequence1\")))\n",
    "\n",
    "p_value = np.count_nonzero(test_statistics >= observed)/1000\n",
    "p_value\n"
   ]
  },
  {
   "cell_type": "markdown",
   "metadata": {},
   "source": [
    "#### Conclusion:\n",
    "Those who correctly identified the timing of the note, performed better. This was a statistical significant effect for the normal metric position sequence."
   ]
  },
  {
   "cell_type": "markdown",
   "metadata": {},
   "source": [
    "### Sequence 2 (Very Early)\n"
   ]
  },
  {
   "cell_type": "code",
   "execution_count": 567,
   "metadata": {},
   "outputs": [
    {
     "data": {
      "text/plain": [
       "53.333333333333336"
      ]
     },
     "execution_count": 567,
     "metadata": {},
     "output_type": "execute_result"
    }
   ],
   "source": [
    "seq2_correct_timing = experimentB[experimentB['Sequence2_Timing'] == \"Earlier\"]\n",
    "seq2_correct_timing[seq2_correct_timing[\"Sequence2\"] == \"Correct\"].shape[0]/seq2_correct_timing.shape[0]*100\n"
   ]
  },
  {
   "cell_type": "code",
   "execution_count": 585,
   "metadata": {},
   "outputs": [
    {
     "data": {
      "text/plain": [
       "0.0"
      ]
     },
     "execution_count": 585,
     "metadata": {},
     "output_type": "execute_result"
    }
   ],
   "source": [
    "seq2_correct_timing = experimentB[experimentB['Sequence2_Timing'] != \"Earlier\"]\n",
    "seq2_correct_timing[seq2_correct_timing[\"Sequence2\"] == \"Correct\"].shape[0]/seq2_correct_timing.shape[0]*100\n"
   ]
  },
  {
   "cell_type": "code",
   "execution_count": 568,
   "metadata": {},
   "outputs": [
    {
     "data": {
      "text/plain": [
       "0.002"
      ]
     },
     "execution_count": 568,
     "metadata": {},
     "output_type": "execute_result"
    }
   ],
   "source": [
    "a = seq2_correct_timing[seq2_correct_timing[\"Sequence2\"] == \"Correct\"].shape[0]/seq2_correct_timing.shape[0]\n",
    "b = experimentB[experimentB['Sequence2'] == \"Correct\"].shape[0]/experimentB.shape[0]\n",
    "observed = a \n",
    "\n",
    "test_statistics = np.array([])\n",
    "for i in range(0,100):\n",
    "    test_statistics = np.concatenate((test_statistics,a_b_test_performance(seq2_correct_timing,\"Sequence2\")))\n",
    "    \n",
    "p_value = np.count_nonzero(test_statistics <= observed)/1000\n",
    "p_value\n"
   ]
  },
  {
   "cell_type": "markdown",
   "metadata": {},
   "source": [
    "#### Conclusion:\n",
    "\n",
    "Those who correctly identified the timing of the note, performed better. This was a statistical significant effect for the very early sequence.\n"
   ]
  },
  {
   "cell_type": "markdown",
   "metadata": {},
   "source": [
    "### Sequence 4 (Very Late)\n"
   ]
  },
  {
   "cell_type": "code",
   "execution_count": 569,
   "metadata": {},
   "outputs": [
    {
     "data": {
      "text/plain": [
       "85.71428571428571"
      ]
     },
     "execution_count": 569,
     "metadata": {},
     "output_type": "execute_result"
    }
   ],
   "source": [
    "seq4_correct_timing = experimentB[experimentB['Sequence4_Timing'] == \"Later\"]\n",
    "seq4_correct_timing[seq4_correct_timing[\"Sequence2\"] == \"Correct\"].shape[0]/seq4_correct_timing.shape[0]*100\n",
    "\n"
   ]
  },
  {
   "cell_type": "code",
   "execution_count": 586,
   "metadata": {},
   "outputs": [
    {
     "data": {
      "text/plain": [
       "0.0"
      ]
     },
     "execution_count": 586,
     "metadata": {},
     "output_type": "execute_result"
    }
   ],
   "source": [
    "seq4_correct_timing = experimentB[experimentB['Sequence4_Timing'] != \"Later\"]\n",
    "seq4_correct_timing[seq4_correct_timing[\"Sequence2\"] == \"Correct\"].shape[0]/seq4_correct_timing.shape[0]*100\n",
    "\n"
   ]
  },
  {
   "cell_type": "code",
   "execution_count": 587,
   "metadata": {},
   "outputs": [
    {
     "data": {
      "text/plain": [
       "0.0"
      ]
     },
     "execution_count": 587,
     "metadata": {},
     "output_type": "execute_result"
    }
   ],
   "source": [
    "a = seq4_correct_timing[seq4_correct_timing[\"Sequence4\"] == \"Correct\"].shape[0]/seq4_correct_timing.shape[0]\n",
    "b = experimentB[experimentB['Sequence4'] == \"Correct\"].shape[0]/experimentB.shape[0]\n",
    "observed = a - b\n",
    "\n",
    "test_statistics = np.array([])\n",
    "for i in range(0,1000):\n",
    "    test_statistics = np.concatenate((test_statistics,a_b_test_performance(seq4_correct_timing,\"Sequence4\")))\n",
    "    \n",
    "p_value = np.count_nonzero(test_statistics <= observed)/1000\n",
    "p_value\n"
   ]
  },
  {
   "cell_type": "markdown",
   "metadata": {},
   "source": [
    "#### Conclusion:\n",
    "\n",
    "Those who correctly identified the timing of the note, performed better. This was a statistical significant effect for the very late sequence."
   ]
  },
  {
   "cell_type": "markdown",
   "metadata": {},
   "source": [
    "## Easiest Sequence: Participant Responses\n",
    "We can also see which sequence participants ranked as easiest. A graph is shown below"
   ]
  },
  {
   "cell_type": "code",
   "execution_count": 571,
   "metadata": {},
   "outputs": [],
   "source": [
    "s1 = experimentB[experimentB['Easiest'] == \"Question 1\"].shape[0]/len(experimentB) * 100\n",
    "s2 = experimentB[experimentB['Easiest'] == \"Question 2\"].shape[0]/len(experimentB) * 100\n",
    "s3 = experimentB[experimentB['Easiest'] == \"Question 3\"].shape[0]/len(experimentB) * 100\n",
    "s4 = experimentB[experimentB['Easiest'] == \"Question 4\"].shape[0]/len(experimentB) * 100\n"
   ]
  },
  {
   "cell_type": "code",
   "execution_count": 590,
   "metadata": {},
   "outputs": [
    {
     "data": {
      "text/plain": [
       "Text(0.5, 1.0, 'Metric Position vs % Responding Easiest')"
      ]
     },
     "execution_count": 590,
     "metadata": {},
     "output_type": "execute_result"
    },
    {
     "data": {
      "image/png": "[encoded data removed]",
      "text/plain": [
       "<Figure size 432x288 with 1 Axes>"
      ]
     },
     "metadata": {
      "needs_background": "light"
     },
     "output_type": "display_data"
    }
   ],
   "source": [
    "easiest_bar = pd.DataFrame({'Metric Position':[\"Very Early\",'On-Time','Verly Late','Irregular'], '% Easiest':[s2,s1,s4,s3]})\n",
    "ax = easiest_bar.plot.bar(x='Metric Position', y='% Easiest', rot=0)\n",
    "ax.set_title('Metric Position vs % Responding Easiest')\n"
   ]
  },
  {
   "cell_type": "markdown",
   "metadata": {},
   "source": [
    "We see that On-Time (Precise Metric Position) was rated as the easiest sequence to determine pitch."
   ]
  },
  {
   "cell_type": "markdown",
   "metadata": {},
   "source": [
    "## Additional PCA Analysis"
   ]
  },
  {
   "cell_type": "code",
   "execution_count": 591,
   "metadata": {},
   "outputs": [],
   "source": [
    "experimentB_pca = experimentB[['Age',\"Perfect_Pitch\",\"Listen_Music\",\"Years\",\"Control\",\"Sequence1\",\"Sequence1_Timing\",\"Sequence2\",\"Sequence2_Timing\",\"Sequence3\",\"Sequence3_Timing\",\"Sequence4\",\"Sequence4_Timing\",\"Easiest\"]]"
   ]
  },
  {
   "cell_type": "code",
   "execution_count": 592,
   "metadata": {},
   "outputs": [
    {
     "data": {
      "text/html": [
       "<div>\n",
       "<style scoped>\n",
       "    .dataframe tbody tr th:only-of-type {\n",
       "        vertical-align: middle;\n",
       "    }\n",
       "\n",
       "    .dataframe tbody tr th {\n",
       "        vertical-align: top;\n",
       "    }\n",
       "\n",
       "    .dataframe thead th {\n",
       "        text-align: right;\n",
       "    }\n",
       "</style>\n",
       "<table border=\"1\" class=\"dataframe\">\n",
       "  <thead>\n",
       "    <tr style=\"text-align: right;\">\n",
       "      <th></th>\n",
       "      <th>Age</th>\n",
       "      <th>Perfect_Pitch</th>\n",
       "      <th>Listen_Music</th>\n",
       "      <th>Years</th>\n",
       "      <th>Control</th>\n",
       "      <th>Sequence1</th>\n",
       "      <th>Sequence1_Timing</th>\n",
       "      <th>Sequence2</th>\n",
       "      <th>Sequence2_Timing</th>\n",
       "      <th>Sequence3</th>\n",
       "      <th>Sequence3_Timing</th>\n",
       "      <th>Sequence4</th>\n",
       "      <th>Sequence4_Timing</th>\n",
       "      <th>Easiest</th>\n",
       "    </tr>\n",
       "  </thead>\n",
       "  <tbody>\n",
       "    <tr>\n",
       "      <th>0</th>\n",
       "      <td>20.0</td>\n",
       "      <td>No</td>\n",
       "      <td>Yes</td>\n",
       "      <td>5</td>\n",
       "      <td>Higher</td>\n",
       "      <td>Incorrect</td>\n",
       "      <td>Earlier</td>\n",
       "      <td>Incorrect</td>\n",
       "      <td>Expected</td>\n",
       "      <td>Correct</td>\n",
       "      <td>Later</td>\n",
       "      <td>Incorrect</td>\n",
       "      <td>Later</td>\n",
       "      <td>Question 1</td>\n",
       "    </tr>\n",
       "    <tr>\n",
       "      <th>1</th>\n",
       "      <td>20.0</td>\n",
       "      <td>No</td>\n",
       "      <td>Yes</td>\n",
       "      <td>0</td>\n",
       "      <td>Higher</td>\n",
       "      <td>Correct</td>\n",
       "      <td>Later</td>\n",
       "      <td>Incorrect</td>\n",
       "      <td>Later</td>\n",
       "      <td>Correct</td>\n",
       "      <td>Expected</td>\n",
       "      <td>Correct</td>\n",
       "      <td>Later</td>\n",
       "      <td>Question 1</td>\n",
       "    </tr>\n",
       "    <tr>\n",
       "      <th>2</th>\n",
       "      <td>20.0</td>\n",
       "      <td>No</td>\n",
       "      <td>Yes</td>\n",
       "      <td>8</td>\n",
       "      <td>Higher</td>\n",
       "      <td>Correct</td>\n",
       "      <td>Expected</td>\n",
       "      <td>Incorrect</td>\n",
       "      <td>Earlier</td>\n",
       "      <td>Correct</td>\n",
       "      <td>Earlier</td>\n",
       "      <td>Correct</td>\n",
       "      <td>Expected</td>\n",
       "      <td>Question 4</td>\n",
       "    </tr>\n",
       "    <tr>\n",
       "      <th>4</th>\n",
       "      <td>18.0</td>\n",
       "      <td>No</td>\n",
       "      <td>Yes</td>\n",
       "      <td>4</td>\n",
       "      <td>Higher</td>\n",
       "      <td>Correct</td>\n",
       "      <td>Earlier</td>\n",
       "      <td>Incorrect</td>\n",
       "      <td>Later</td>\n",
       "      <td>Incorrect</td>\n",
       "      <td>Earlier</td>\n",
       "      <td>Correct</td>\n",
       "      <td>Expected</td>\n",
       "      <td>Question 1</td>\n",
       "    </tr>\n",
       "    <tr>\n",
       "      <th>5</th>\n",
       "      <td>20.0</td>\n",
       "      <td>No</td>\n",
       "      <td>Yes</td>\n",
       "      <td>3</td>\n",
       "      <td>Higher</td>\n",
       "      <td>Correct</td>\n",
       "      <td>Expected</td>\n",
       "      <td>Incorrect</td>\n",
       "      <td>Earlier</td>\n",
       "      <td>Correct</td>\n",
       "      <td>Expected</td>\n",
       "      <td>Correct</td>\n",
       "      <td>Expected</td>\n",
       "      <td>Question 1</td>\n",
       "    </tr>\n",
       "  </tbody>\n",
       "</table>\n",
       "</div>"
      ],
      "text/plain": [
       "    Age Perfect_Pitch Listen_Music  Years Control  Sequence1 Sequence1_Timing  \\\n",
       "0  20.0            No          Yes      5  Higher  Incorrect          Earlier   \n",
       "1  20.0            No          Yes      0  Higher    Correct            Later   \n",
       "2  20.0            No          Yes      8  Higher    Correct         Expected   \n",
       "4  18.0            No          Yes      4  Higher    Correct          Earlier   \n",
       "5  20.0            No          Yes      3  Higher    Correct         Expected   \n",
       "\n",
       "   Sequence2 Sequence2_Timing  Sequence3 Sequence3_Timing  Sequence4  \\\n",
       "0  Incorrect         Expected    Correct            Later  Incorrect   \n",
       "1  Incorrect            Later    Correct         Expected    Correct   \n",
       "2  Incorrect          Earlier    Correct          Earlier    Correct   \n",
       "4  Incorrect            Later  Incorrect          Earlier    Correct   \n",
       "5  Incorrect          Earlier    Correct         Expected    Correct   \n",
       "\n",
       "  Sequence4_Timing     Easiest  \n",
       "0            Later  Question 1  \n",
       "1            Later  Question 1  \n",
       "2         Expected  Question 4  \n",
       "4         Expected  Question 1  \n",
       "5         Expected  Question 1  "
      ]
     },
     "execution_count": 592,
     "metadata": {},
     "output_type": "execute_result"
    }
   ],
   "source": [
    "experimentB_pca.head()"
   ]
  },
  {
   "cell_type": "code",
   "execution_count": 593,
   "metadata": {},
   "outputs": [
    {
     "name": "stderr",
     "output_type": "stream",
     "text": [
      "/usr/local/Cellar/jupyterlab/2.1.4/libexec/lib/python3.8/site-packages/pandas/core/indexing.py:966: SettingWithCopyWarning: \n",
      "A value is trying to be set on a copy of a slice from a DataFrame.\n",
      "Try using .loc[row_indexer,col_indexer] = value instead\n",
      "\n",
      "See the caveats in the documentation: https://pandas.pydata.org/pandas-docs/stable/user_guide/indexing.html#returning-a-view-versus-a-copy\n",
      "  self.obj[item] = s\n"
     ]
    }
   ],
   "source": [
    "\n",
    "experimentB.loc[(experimentB.Sequence2 != 'Lower'),'Sequence2']='Incorrect'\n",
    "experimentB_pca.loc[(experimentB_pca.Perfect_Pitch == \"No\"),'Perfect_Pitch'] = 0\n",
    "experimentB_pca.loc[(experimentB_pca.Listen_Music  == \"Yes\"),'Listen_Music'] = 1\n",
    "experimentB_pca.loc[(experimentB_pca.Control  == \"Higher\"),'Control'] = 1\n",
    "experimentB_pca.loc[(experimentB_pca.Sequence1  == \"Correct\"),'Sequence1'] = 1\n",
    "experimentB_pca.loc[(experimentB_pca.Sequence1  == \"Incorrect\"),'Sequence1'] = 0\n",
    "\n",
    "experimentB_pca.loc[(experimentB_pca.Sequence1_Timing  != \"Expected\"),'Sequence1_Timing'] = 0\n",
    "experimentB_pca.loc[(experimentB_pca.Sequence1_Timing  == \"Expected\"),'Sequence1_Timing'] = 1\n",
    "\n",
    "\n",
    "experimentB_pca.loc[(experimentB_pca.Sequence2  == \"Correct\"),'Sequence2'] = 1\n",
    "experimentB_pca.loc[(experimentB_pca.Sequence2  == \"Incorrect\"),'Sequence2'] = 0\n",
    "\n",
    "experimentB_pca.loc[(experimentB_pca.Sequence2_Timing  != \"Earlier\"),'Sequence2_Timing'] = 0\n",
    "experimentB_pca.loc[(experimentB_pca.Sequence2_Timing  == \"Earlier\"),'Sequence2_Timing'] = 1\n",
    "\n",
    "experimentB_pca.loc[(experimentB_pca.Sequence3  == \"Correct\"),'Sequence3'] = 1\n",
    "experimentB_pca.loc[(experimentB_pca.Sequence3  == \"Incorrect\"),'Sequence3'] = 0\n",
    "\n",
    "experimentB_pca.loc[(experimentB_pca.Sequence3_Timing  != \"Earlier\"),'Sequence3_Timing'] = 0\n",
    "experimentB_pca.loc[(experimentB_pca.Sequence3_Timing  == \"Earlier\"),'Sequence3_Timing'] = 1\n",
    "\n",
    "experimentB_pca.loc[(experimentB_pca.Sequence4  == \"Correct\"),'Sequence4'] = 1\n",
    "experimentB_pca.loc[(experimentB_pca.Sequence4  == \"Incorrect\"),'Sequence4'] = 0\n",
    "\n",
    "experimentB_pca.loc[(experimentB_pca.Sequence4_Timing  != \"Earlier\"),'Sequence4_Timing'] = 0\n",
    "experimentB_pca.loc[(experimentB_pca.Sequence4_Timing  == \"Earlier\"),'Sequence4_Timing'] = 1\n",
    "\n",
    "experimentB_pca.loc[(experimentB_pca.Perfect_Pitch  == \"Yes\"),'Perfect_Pitch'] = 1\n",
    "experimentB_pca.loc[(experimentB_pca.Perfect_Pitch  == \"No\"),'Perfect_Pitch'] = 0\n",
    "\n",
    "\n",
    "experimentB_pca.loc[(experimentB_pca.Listen_Music  == \"Yes\"),'Listen_Music'] = 1\n",
    "experimentB_pca.loc[(experimentB_pca.Listen_Music == \"No\"),'Listen_Music'] = 0\n",
    "\n",
    "\n",
    "experimentB_pca.loc[(experimentB_pca.Easiest == \"Question 1\"),'Easiest'] = 1\n",
    "experimentB_pca.loc[(experimentB_pca.Easiest == \"Question 2\"),'Easiest'] = 2\n",
    "experimentB_pca.loc[(experimentB_pca.Easiest == \"Question 3\"),'Easiest'] = 3\n",
    "experimentB_pca.loc[(experimentB_pca.Easiest == \"Question 4\"),'Easiest'] = 4"
   ]
  },
  {
   "cell_type": "code",
   "execution_count": 594,
   "metadata": {},
   "outputs": [
    {
     "name": "stderr",
     "output_type": "stream",
     "text": [
      "<ipython-input-594-79331e49c523>:1: SettingWithCopyWarning: \n",
      "A value is trying to be set on a copy of a slice from a DataFrame\n",
      "\n",
      "See the caveats in the documentation: https://pandas.pydata.org/pandas-docs/stable/user_guide/indexing.html#returning-a-view-versus-a-copy\n",
      "  experimentB_pca.dropna(inplace=True)\n"
     ]
    }
   ],
   "source": [
    "experimentB_pca.dropna(inplace=True)"
   ]
  },
  {
   "cell_type": "code",
   "execution_count": 595,
   "metadata": {},
   "outputs": [],
   "source": [
    "A = np.matrix(experimentB_pca.values,dtype='float')\n"
   ]
  },
  {
   "cell_type": "code",
   "execution_count": 596,
   "metadata": {},
   "outputs": [],
   "source": [
    "u, s, vh = np.linalg.svd(A, full_matrices=True)"
   ]
  },
  {
   "cell_type": "code",
   "execution_count": 599,
   "metadata": {},
   "outputs": [
    {
     "data": {
      "text/plain": [
       "matrix([[ 5.19275744],\n",
       "        [-0.10931298],\n",
       "        [ 0.51528542],\n",
       "        [ 6.22273375],\n",
       "        [ 0.26353506],\n",
       "        [ 0.65037822],\n",
       "        [-0.53663806],\n",
       "        [ 0.        ],\n",
       "        [-0.1469364 ],\n",
       "        [ 0.37296439],\n",
       "        [ 0.23663926],\n",
       "        [ 1.32019484],\n",
       "        [ 0.03654428],\n",
       "        [ 1.38043313]])"
      ]
     },
     "execution_count": 599,
     "metadata": {},
     "output_type": "execute_result"
    }
   ],
   "source": [
    "np.matmul(np.transpose(A),u[0].transpose())"
   ]
  },
  {
   "cell_type": "code",
   "execution_count": 600,
   "metadata": {},
   "outputs": [
    {
     "data": {
      "text/plain": [
       "matrix([[17.20064809],\n",
       "        [ 1.13270663],\n",
       "        [ 0.95897768],\n",
       "        [15.18175726],\n",
       "        [ 0.89655186],\n",
       "        [ 0.91294927],\n",
       "        [-0.25058158],\n",
       "        [ 0.        ],\n",
       "        [-0.36889696],\n",
       "        [ 0.71775517],\n",
       "        [ 0.82161319],\n",
       "        [ 1.02842581],\n",
       "        [ 0.18363677],\n",
       "        [ 4.46735911]])"
      ]
     },
     "execution_count": 600,
     "metadata": {},
     "output_type": "execute_result"
    }
   ],
   "source": [
    "np.matmul(np.transpose(A),u[1].transpose())"
   ]
  },
  {
   "cell_type": "markdown",
   "metadata": {},
   "source": [
    "No significant conclusions drawn form PCA analysis."
   ]
  },
  {
   "cell_type": "code",
   "execution_count": 601,
   "metadata": {},
   "outputs": [
    {
     "data": {
      "text/html": [
       "<div>\n",
       "<style scoped>\n",
       "    .dataframe tbody tr th:only-of-type {\n",
       "        vertical-align: middle;\n",
       "    }\n",
       "\n",
       "    .dataframe tbody tr th {\n",
       "        vertical-align: top;\n",
       "    }\n",
       "\n",
       "    .dataframe thead th {\n",
       "        text-align: right;\n",
       "    }\n",
       "</style>\n",
       "<table border=\"1\" class=\"dataframe\">\n",
       "  <thead>\n",
       "    <tr style=\"text-align: right;\">\n",
       "      <th></th>\n",
       "      <th>Age</th>\n",
       "      <th>Perfect_Pitch</th>\n",
       "      <th>Listen_Music</th>\n",
       "      <th>Years</th>\n",
       "      <th>Control</th>\n",
       "      <th>Sequence1</th>\n",
       "      <th>Sequence1_Timing</th>\n",
       "      <th>Sequence2</th>\n",
       "      <th>Sequence2_Timing</th>\n",
       "      <th>Sequence3</th>\n",
       "      <th>Sequence3_Timing</th>\n",
       "      <th>Sequence4</th>\n",
       "      <th>Sequence4_Timing</th>\n",
       "      <th>Easiest</th>\n",
       "    </tr>\n",
       "  </thead>\n",
       "  <tbody>\n",
       "    <tr>\n",
       "      <th>0</th>\n",
       "      <td>20.0</td>\n",
       "      <td>0</td>\n",
       "      <td>1</td>\n",
       "      <td>5</td>\n",
       "      <td>1</td>\n",
       "      <td>0</td>\n",
       "      <td>0</td>\n",
       "      <td>0</td>\n",
       "      <td>0</td>\n",
       "      <td>1</td>\n",
       "      <td>0</td>\n",
       "      <td>0</td>\n",
       "      <td>0</td>\n",
       "      <td>1</td>\n",
       "    </tr>\n",
       "    <tr>\n",
       "      <th>1</th>\n",
       "      <td>20.0</td>\n",
       "      <td>0</td>\n",
       "      <td>1</td>\n",
       "      <td>0</td>\n",
       "      <td>1</td>\n",
       "      <td>1</td>\n",
       "      <td>0</td>\n",
       "      <td>0</td>\n",
       "      <td>0</td>\n",
       "      <td>1</td>\n",
       "      <td>0</td>\n",
       "      <td>1</td>\n",
       "      <td>0</td>\n",
       "      <td>1</td>\n",
       "    </tr>\n",
       "    <tr>\n",
       "      <th>2</th>\n",
       "      <td>20.0</td>\n",
       "      <td>0</td>\n",
       "      <td>1</td>\n",
       "      <td>8</td>\n",
       "      <td>1</td>\n",
       "      <td>1</td>\n",
       "      <td>1</td>\n",
       "      <td>0</td>\n",
       "      <td>1</td>\n",
       "      <td>1</td>\n",
       "      <td>1</td>\n",
       "      <td>1</td>\n",
       "      <td>0</td>\n",
       "      <td>4</td>\n",
       "    </tr>\n",
       "    <tr>\n",
       "      <th>4</th>\n",
       "      <td>18.0</td>\n",
       "      <td>0</td>\n",
       "      <td>1</td>\n",
       "      <td>4</td>\n",
       "      <td>1</td>\n",
       "      <td>1</td>\n",
       "      <td>0</td>\n",
       "      <td>0</td>\n",
       "      <td>0</td>\n",
       "      <td>0</td>\n",
       "      <td>1</td>\n",
       "      <td>1</td>\n",
       "      <td>0</td>\n",
       "      <td>1</td>\n",
       "    </tr>\n",
       "    <tr>\n",
       "      <th>5</th>\n",
       "      <td>20.0</td>\n",
       "      <td>0</td>\n",
       "      <td>1</td>\n",
       "      <td>3</td>\n",
       "      <td>1</td>\n",
       "      <td>1</td>\n",
       "      <td>1</td>\n",
       "      <td>0</td>\n",
       "      <td>1</td>\n",
       "      <td>1</td>\n",
       "      <td>0</td>\n",
       "      <td>1</td>\n",
       "      <td>0</td>\n",
       "      <td>1</td>\n",
       "    </tr>\n",
       "    <tr>\n",
       "      <th>6</th>\n",
       "      <td>20.0</td>\n",
       "      <td>0</td>\n",
       "      <td>1</td>\n",
       "      <td>16</td>\n",
       "      <td>1</td>\n",
       "      <td>1</td>\n",
       "      <td>0</td>\n",
       "      <td>0</td>\n",
       "      <td>0</td>\n",
       "      <td>1</td>\n",
       "      <td>1</td>\n",
       "      <td>1</td>\n",
       "      <td>1</td>\n",
       "      <td>4</td>\n",
       "    </tr>\n",
       "    <tr>\n",
       "      <th>7</th>\n",
       "      <td>20.0</td>\n",
       "      <td>0</td>\n",
       "      <td>1</td>\n",
       "      <td>16</td>\n",
       "      <td>1</td>\n",
       "      <td>1</td>\n",
       "      <td>0</td>\n",
       "      <td>0</td>\n",
       "      <td>0</td>\n",
       "      <td>1</td>\n",
       "      <td>1</td>\n",
       "      <td>1</td>\n",
       "      <td>1</td>\n",
       "      <td>4</td>\n",
       "    </tr>\n",
       "    <tr>\n",
       "      <th>8</th>\n",
       "      <td>20.0</td>\n",
       "      <td>0</td>\n",
       "      <td>1</td>\n",
       "      <td>0</td>\n",
       "      <td>1</td>\n",
       "      <td>1</td>\n",
       "      <td>0</td>\n",
       "      <td>0</td>\n",
       "      <td>0</td>\n",
       "      <td>1</td>\n",
       "      <td>0</td>\n",
       "      <td>1</td>\n",
       "      <td>0</td>\n",
       "      <td>1</td>\n",
       "    </tr>\n",
       "    <tr>\n",
       "      <th>9</th>\n",
       "      <td>20.0</td>\n",
       "      <td>0</td>\n",
       "      <td>1</td>\n",
       "      <td>10</td>\n",
       "      <td>1</td>\n",
       "      <td>0</td>\n",
       "      <td>0</td>\n",
       "      <td>0</td>\n",
       "      <td>1</td>\n",
       "      <td>0</td>\n",
       "      <td>1</td>\n",
       "      <td>1</td>\n",
       "      <td>0</td>\n",
       "      <td>4</td>\n",
       "    </tr>\n",
       "    <tr>\n",
       "      <th>10</th>\n",
       "      <td>20.0</td>\n",
       "      <td>0</td>\n",
       "      <td>1</td>\n",
       "      <td>10</td>\n",
       "      <td>1</td>\n",
       "      <td>1</td>\n",
       "      <td>0</td>\n",
       "      <td>0</td>\n",
       "      <td>1</td>\n",
       "      <td>0</td>\n",
       "      <td>0</td>\n",
       "      <td>1</td>\n",
       "      <td>1</td>\n",
       "      <td>1</td>\n",
       "    </tr>\n",
       "    <tr>\n",
       "      <th>11</th>\n",
       "      <td>18.0</td>\n",
       "      <td>0</td>\n",
       "      <td>1</td>\n",
       "      <td>5</td>\n",
       "      <td>1</td>\n",
       "      <td>1</td>\n",
       "      <td>0</td>\n",
       "      <td>0</td>\n",
       "      <td>0</td>\n",
       "      <td>1</td>\n",
       "      <td>0</td>\n",
       "      <td>1</td>\n",
       "      <td>0</td>\n",
       "      <td>4</td>\n",
       "    </tr>\n",
       "    <tr>\n",
       "      <th>12</th>\n",
       "      <td>21.0</td>\n",
       "      <td>0</td>\n",
       "      <td>1</td>\n",
       "      <td>14</td>\n",
       "      <td>1</td>\n",
       "      <td>0</td>\n",
       "      <td>0</td>\n",
       "      <td>0</td>\n",
       "      <td>0</td>\n",
       "      <td>1</td>\n",
       "      <td>1</td>\n",
       "      <td>1</td>\n",
       "      <td>0</td>\n",
       "      <td>3</td>\n",
       "    </tr>\n",
       "    <tr>\n",
       "      <th>13</th>\n",
       "      <td>20.0</td>\n",
       "      <td>0</td>\n",
       "      <td>1</td>\n",
       "      <td>1</td>\n",
       "      <td>1</td>\n",
       "      <td>1</td>\n",
       "      <td>0</td>\n",
       "      <td>0</td>\n",
       "      <td>0</td>\n",
       "      <td>0</td>\n",
       "      <td>1</td>\n",
       "      <td>0</td>\n",
       "      <td>0</td>\n",
       "      <td>1</td>\n",
       "    </tr>\n",
       "    <tr>\n",
       "      <th>14</th>\n",
       "      <td>21.0</td>\n",
       "      <td>0</td>\n",
       "      <td>1</td>\n",
       "      <td>10</td>\n",
       "      <td>1</td>\n",
       "      <td>1</td>\n",
       "      <td>0</td>\n",
       "      <td>0</td>\n",
       "      <td>1</td>\n",
       "      <td>1</td>\n",
       "      <td>0</td>\n",
       "      <td>1</td>\n",
       "      <td>0</td>\n",
       "      <td>1</td>\n",
       "    </tr>\n",
       "    <tr>\n",
       "      <th>15</th>\n",
       "      <td>21.0</td>\n",
       "      <td>0</td>\n",
       "      <td>1</td>\n",
       "      <td>0</td>\n",
       "      <td>1</td>\n",
       "      <td>1</td>\n",
       "      <td>1</td>\n",
       "      <td>0</td>\n",
       "      <td>1</td>\n",
       "      <td>1</td>\n",
       "      <td>1</td>\n",
       "      <td>1</td>\n",
       "      <td>0</td>\n",
       "      <td>1</td>\n",
       "    </tr>\n",
       "    <tr>\n",
       "      <th>17</th>\n",
       "      <td>19.0</td>\n",
       "      <td>0</td>\n",
       "      <td>1</td>\n",
       "      <td>0</td>\n",
       "      <td>1</td>\n",
       "      <td>1</td>\n",
       "      <td>1</td>\n",
       "      <td>0</td>\n",
       "      <td>1</td>\n",
       "      <td>0</td>\n",
       "      <td>1</td>\n",
       "      <td>1</td>\n",
       "      <td>0</td>\n",
       "      <td>4</td>\n",
       "    </tr>\n",
       "    <tr>\n",
       "      <th>18</th>\n",
       "      <td>40.0</td>\n",
       "      <td>0</td>\n",
       "      <td>1</td>\n",
       "      <td>30</td>\n",
       "      <td>1</td>\n",
       "      <td>1</td>\n",
       "      <td>1</td>\n",
       "      <td>0</td>\n",
       "      <td>1</td>\n",
       "      <td>1</td>\n",
       "      <td>0</td>\n",
       "      <td>1</td>\n",
       "      <td>0</td>\n",
       "      <td>1</td>\n",
       "    </tr>\n",
       "    <tr>\n",
       "      <th>19</th>\n",
       "      <td>20.0</td>\n",
       "      <td>0</td>\n",
       "      <td>1</td>\n",
       "      <td>6</td>\n",
       "      <td>1</td>\n",
       "      <td>1</td>\n",
       "      <td>1</td>\n",
       "      <td>0</td>\n",
       "      <td>1</td>\n",
       "      <td>1</td>\n",
       "      <td>0</td>\n",
       "      <td>1</td>\n",
       "      <td>0</td>\n",
       "      <td>1</td>\n",
       "    </tr>\n",
       "    <tr>\n",
       "      <th>20</th>\n",
       "      <td>24.0</td>\n",
       "      <td>0</td>\n",
       "      <td>1</td>\n",
       "      <td>16</td>\n",
       "      <td>1</td>\n",
       "      <td>1</td>\n",
       "      <td>1</td>\n",
       "      <td>0</td>\n",
       "      <td>0</td>\n",
       "      <td>0</td>\n",
       "      <td>1</td>\n",
       "      <td>1</td>\n",
       "      <td>0</td>\n",
       "      <td>1</td>\n",
       "    </tr>\n",
       "    <tr>\n",
       "      <th>21</th>\n",
       "      <td>30.0</td>\n",
       "      <td>0</td>\n",
       "      <td>1</td>\n",
       "      <td>2</td>\n",
       "      <td>1</td>\n",
       "      <td>1</td>\n",
       "      <td>1</td>\n",
       "      <td>0</td>\n",
       "      <td>0</td>\n",
       "      <td>1</td>\n",
       "      <td>1</td>\n",
       "      <td>1</td>\n",
       "      <td>0</td>\n",
       "      <td>1</td>\n",
       "    </tr>\n",
       "    <tr>\n",
       "      <th>22</th>\n",
       "      <td>21.0</td>\n",
       "      <td>1</td>\n",
       "      <td>1</td>\n",
       "      <td>17</td>\n",
       "      <td>1</td>\n",
       "      <td>1</td>\n",
       "      <td>0</td>\n",
       "      <td>0</td>\n",
       "      <td>0</td>\n",
       "      <td>1</td>\n",
       "      <td>1</td>\n",
       "      <td>1</td>\n",
       "      <td>0</td>\n",
       "      <td>4</td>\n",
       "    </tr>\n",
       "    <tr>\n",
       "      <th>23</th>\n",
       "      <td>20.0</td>\n",
       "      <td>0</td>\n",
       "      <td>0</td>\n",
       "      <td>16</td>\n",
       "      <td>1</td>\n",
       "      <td>1</td>\n",
       "      <td>1</td>\n",
       "      <td>0</td>\n",
       "      <td>1</td>\n",
       "      <td>1</td>\n",
       "      <td>0</td>\n",
       "      <td>1</td>\n",
       "      <td>0</td>\n",
       "      <td>1</td>\n",
       "    </tr>\n",
       "    <tr>\n",
       "      <th>24</th>\n",
       "      <td>19.0</td>\n",
       "      <td>0</td>\n",
       "      <td>1</td>\n",
       "      <td>14</td>\n",
       "      <td>1</td>\n",
       "      <td>1</td>\n",
       "      <td>0</td>\n",
       "      <td>0</td>\n",
       "      <td>1</td>\n",
       "      <td>0</td>\n",
       "      <td>1</td>\n",
       "      <td>1</td>\n",
       "      <td>0</td>\n",
       "      <td>4</td>\n",
       "    </tr>\n",
       "    <tr>\n",
       "      <th>25</th>\n",
       "      <td>21.0</td>\n",
       "      <td>1</td>\n",
       "      <td>1</td>\n",
       "      <td>10</td>\n",
       "      <td>1</td>\n",
       "      <td>1</td>\n",
       "      <td>0</td>\n",
       "      <td>0</td>\n",
       "      <td>0</td>\n",
       "      <td>1</td>\n",
       "      <td>0</td>\n",
       "      <td>1</td>\n",
       "      <td>0</td>\n",
       "      <td>4</td>\n",
       "    </tr>\n",
       "    <tr>\n",
       "      <th>27</th>\n",
       "      <td>19.0</td>\n",
       "      <td>0</td>\n",
       "      <td>1</td>\n",
       "      <td>9</td>\n",
       "      <td>1</td>\n",
       "      <td>1</td>\n",
       "      <td>0</td>\n",
       "      <td>0</td>\n",
       "      <td>0</td>\n",
       "      <td>1</td>\n",
       "      <td>1</td>\n",
       "      <td>1</td>\n",
       "      <td>0</td>\n",
       "      <td>1</td>\n",
       "    </tr>\n",
       "    <tr>\n",
       "      <th>29</th>\n",
       "      <td>20.0</td>\n",
       "      <td>0</td>\n",
       "      <td>1</td>\n",
       "      <td>4</td>\n",
       "      <td>1</td>\n",
       "      <td>1</td>\n",
       "      <td>0</td>\n",
       "      <td>0</td>\n",
       "      <td>1</td>\n",
       "      <td>0</td>\n",
       "      <td>1</td>\n",
       "      <td>1</td>\n",
       "      <td>0</td>\n",
       "      <td>1</td>\n",
       "    </tr>\n",
       "    <tr>\n",
       "      <th>30</th>\n",
       "      <td>21.0</td>\n",
       "      <td>0</td>\n",
       "      <td>1</td>\n",
       "      <td>0</td>\n",
       "      <td>1</td>\n",
       "      <td>1</td>\n",
       "      <td>0</td>\n",
       "      <td>0</td>\n",
       "      <td>1</td>\n",
       "      <td>0</td>\n",
       "      <td>0</td>\n",
       "      <td>1</td>\n",
       "      <td>0</td>\n",
       "      <td>2</td>\n",
       "    </tr>\n",
       "    <tr>\n",
       "      <th>31</th>\n",
       "      <td>20.0</td>\n",
       "      <td>0</td>\n",
       "      <td>1</td>\n",
       "      <td>10</td>\n",
       "      <td>1</td>\n",
       "      <td>1</td>\n",
       "      <td>1</td>\n",
       "      <td>0</td>\n",
       "      <td>0</td>\n",
       "      <td>1</td>\n",
       "      <td>0</td>\n",
       "      <td>1</td>\n",
       "      <td>0</td>\n",
       "      <td>4</td>\n",
       "    </tr>\n",
       "    <tr>\n",
       "      <th>32</th>\n",
       "      <td>21.0</td>\n",
       "      <td>0</td>\n",
       "      <td>1</td>\n",
       "      <td>8</td>\n",
       "      <td>1</td>\n",
       "      <td>1</td>\n",
       "      <td>1</td>\n",
       "      <td>0</td>\n",
       "      <td>0</td>\n",
       "      <td>1</td>\n",
       "      <td>1</td>\n",
       "      <td>1</td>\n",
       "      <td>0</td>\n",
       "      <td>2</td>\n",
       "    </tr>\n",
       "    <tr>\n",
       "      <th>34</th>\n",
       "      <td>20.0</td>\n",
       "      <td>0</td>\n",
       "      <td>1</td>\n",
       "      <td>3</td>\n",
       "      <td>1</td>\n",
       "      <td>1</td>\n",
       "      <td>1</td>\n",
       "      <td>0</td>\n",
       "      <td>0</td>\n",
       "      <td>0</td>\n",
       "      <td>0</td>\n",
       "      <td>0</td>\n",
       "      <td>0</td>\n",
       "      <td>1</td>\n",
       "    </tr>\n",
       "    <tr>\n",
       "      <th>35</th>\n",
       "      <td>23.0</td>\n",
       "      <td>0</td>\n",
       "      <td>0</td>\n",
       "      <td>0</td>\n",
       "      <td>1</td>\n",
       "      <td>1</td>\n",
       "      <td>1</td>\n",
       "      <td>0</td>\n",
       "      <td>1</td>\n",
       "      <td>0</td>\n",
       "      <td>0</td>\n",
       "      <td>0</td>\n",
       "      <td>0</td>\n",
       "      <td>1</td>\n",
       "    </tr>\n",
       "  </tbody>\n",
       "</table>\n",
       "</div>"
      ],
      "text/plain": [
       "     Age Perfect_Pitch Listen_Music  Years Control Sequence1 Sequence1_Timing  \\\n",
       "0   20.0             0            1      5       1         0                0   \n",
       "1   20.0             0            1      0       1         1                0   \n",
       "2   20.0             0            1      8       1         1                1   \n",
       "4   18.0             0            1      4       1         1                0   \n",
       "5   20.0             0            1      3       1         1                1   \n",
       "6   20.0             0            1     16       1         1                0   \n",
       "7   20.0             0            1     16       1         1                0   \n",
       "8   20.0             0            1      0       1         1                0   \n",
       "9   20.0             0            1     10       1         0                0   \n",
       "10  20.0             0            1     10       1         1                0   \n",
       "11  18.0             0            1      5       1         1                0   \n",
       "12  21.0             0            1     14       1         0                0   \n",
       "13  20.0             0            1      1       1         1                0   \n",
       "14  21.0             0            1     10       1         1                0   \n",
       "15  21.0             0            1      0       1         1                1   \n",
       "17  19.0             0            1      0       1         1                1   \n",
       "18  40.0             0            1     30       1         1                1   \n",
       "19  20.0             0            1      6       1         1                1   \n",
       "20  24.0             0            1     16       1         1                1   \n",
       "21  30.0             0            1      2       1         1                1   \n",
       "22  21.0             1            1     17       1         1                0   \n",
       "23  20.0             0            0     16       1         1                1   \n",
       "24  19.0             0            1     14       1         1                0   \n",
       "25  21.0             1            1     10       1         1                0   \n",
       "27  19.0             0            1      9       1         1                0   \n",
       "29  20.0             0            1      4       1         1                0   \n",
       "30  21.0             0            1      0       1         1                0   \n",
       "31  20.0             0            1     10       1         1                1   \n",
       "32  21.0             0            1      8       1         1                1   \n",
       "34  20.0             0            1      3       1         1                1   \n",
       "35  23.0             0            0      0       1         1                1   \n",
       "\n",
       "   Sequence2 Sequence2_Timing Sequence3 Sequence3_Timing Sequence4  \\\n",
       "0          0                0         1                0         0   \n",
       "1          0                0         1                0         1   \n",
       "2          0                1         1                1         1   \n",
       "4          0                0         0                1         1   \n",
       "5          0                1         1                0         1   \n",
       "6          0                0         1                1         1   \n",
       "7          0                0         1                1         1   \n",
       "8          0                0         1                0         1   \n",
       "9          0                1         0                1         1   \n",
       "10         0                1         0                0         1   \n",
       "11         0                0         1                0         1   \n",
       "12         0                0         1                1         1   \n",
       "13         0                0         0                1         0   \n",
       "14         0                1         1                0         1   \n",
       "15         0                1         1                1         1   \n",
       "17         0                1         0                1         1   \n",
       "18         0                1         1                0         1   \n",
       "19         0                1         1                0         1   \n",
       "20         0                0         0                1         1   \n",
       "21         0                0         1                1         1   \n",
       "22         0                0         1                1         1   \n",
       "23         0                1         1                0         1   \n",
       "24         0                1         0                1         1   \n",
       "25         0                0         1                0         1   \n",
       "27         0                0         1                1         1   \n",
       "29         0                1         0                1         1   \n",
       "30         0                1         0                0         1   \n",
       "31         0                0         1                0         1   \n",
       "32         0                0         1                1         1   \n",
       "34         0                0         0                0         0   \n",
       "35         0                1         0                0         0   \n",
       "\n",
       "   Sequence4_Timing Easiest  \n",
       "0                 0       1  \n",
       "1                 0       1  \n",
       "2                 0       4  \n",
       "4                 0       1  \n",
       "5                 0       1  \n",
       "6                 1       4  \n",
       "7                 1       4  \n",
       "8                 0       1  \n",
       "9                 0       4  \n",
       "10                1       1  \n",
       "11                0       4  \n",
       "12                0       3  \n",
       "13                0       1  \n",
       "14                0       1  \n",
       "15                0       1  \n",
       "17                0       4  \n",
       "18                0       1  \n",
       "19                0       1  \n",
       "20                0       1  \n",
       "21                0       1  \n",
       "22                0       4  \n",
       "23                0       1  \n",
       "24                0       4  \n",
       "25                0       4  \n",
       "27                0       1  \n",
       "29                0       1  \n",
       "30                0       2  \n",
       "31                0       4  \n",
       "32                0       2  \n",
       "34                0       1  \n",
       "35                0       1  "
      ]
     },
     "execution_count": 601,
     "metadata": {},
     "output_type": "execute_result"
    }
   ],
   "source": [
    "experimentB_pca"
   ]
  },
  {
   "cell_type": "markdown",
   "metadata": {},
   "source": [
    "### PCA Conclusions:\n",
    "- PCA analysis appears to be speculative at best. However, some potential insights maybe:\n",
    "    - There appears to be a connection in identifying sequance 3 and 3's timing, as well as  sequance 4 and 4's timing.\n",
    "    - There appears to be (weak) connection in a person getting multiple sequances right. That is, if I get sequance 1 right, I may be more likely to get 4 right too.\n",
    "    - Correctness and the responses to \"easiest\" appears to be correlated. In this case, Sequance 1 and Sequance 4 had high correctness %, and were also the most frequent response when participants were asked which sequance was easiest."
   ]
  },
  {
   "cell_type": "code",
   "execution_count": null,
   "metadata": {},
   "outputs": [],
   "source": []
  }
 ],
 "metadata": {
  "kernelspec": {
   "display_name": "Python 3",
   "language": "python",
   "name": "python3"
  },
  "language_info": {
   "codemirror_mode": {
    "name": "ipython",
    "version": 3
   },
   "file_extension": ".py",
   "mimetype": "text/x-python",
   "name": "python",
   "nbconvert_exporter": "python",
   "pygments_lexer": "ipython3",
   "version": "3.8.3"
  }
 },
 "nbformat": 4,
 "nbformat_minor": 4
}
