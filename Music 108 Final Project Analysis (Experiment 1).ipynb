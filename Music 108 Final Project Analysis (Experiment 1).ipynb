{
 "cells": [
  {
   "cell_type": "code",
   "execution_count": 423,
   "metadata": {},
   "outputs": [],
   "source": [
    "import numpy as np\n",
    "import pandas as pd"
   ]
  },
  {
   "cell_type": "code",
   "execution_count": 424,
   "metadata": {},
   "outputs": [],
   "source": [
    "experimentA = pd.read_csv(\"Survey_A.csv\")"
   ]
  },
  {
   "cell_type": "code",
   "execution_count": 425,
   "metadata": {},
   "outputs": [
    {
     "data": {
      "text/html": [
       "<div>\n",
       "<style scoped>\n",
       "    .dataframe tbody tr th:only-of-type {\n",
       "        vertical-align: middle;\n",
       "    }\n",
       "\n",
       "    .dataframe tbody tr th {\n",
       "        vertical-align: top;\n",
       "    }\n",
       "\n",
       "    .dataframe thead th {\n",
       "        text-align: right;\n",
       "    }\n",
       "</style>\n",
       "<table border=\"1\" class=\"dataframe\">\n",
       "  <thead>\n",
       "    <tr style=\"text-align: right;\">\n",
       "      <th></th>\n",
       "      <th>Gender</th>\n",
       "      <th>Age</th>\n",
       "      <th>Race</th>\n",
       "      <th>Perfect_Pitch</th>\n",
       "      <th>Listen_Music</th>\n",
       "      <th>Played_Instruement</th>\n",
       "      <th>Years</th>\n",
       "      <th>Control</th>\n",
       "      <th>Sequance1</th>\n",
       "      <th>Sequance2</th>\n",
       "      <th>Sequance3</th>\n",
       "      <th>Sequance4</th>\n",
       "      <th>Sequance5</th>\n",
       "      <th>Sequance6</th>\n",
       "      <th>Notes</th>\n",
       "    </tr>\n",
       "  </thead>\n",
       "  <tbody>\n",
       "    <tr>\n",
       "      <th>0</th>\n",
       "      <td>Male</td>\n",
       "      <td>20</td>\n",
       "      <td>Asian or Pacific Islander</td>\n",
       "      <td>No</td>\n",
       "      <td>Yes</td>\n",
       "      <td>Yes</td>\n",
       "      <td>5</td>\n",
       "      <td>Higher</td>\n",
       "      <td>Lower</td>\n",
       "      <td>Higher</td>\n",
       "      <td>Higher</td>\n",
       "      <td>Higher</td>\n",
       "      <td>Lower</td>\n",
       "      <td>Higher</td>\n",
       "      <td>NaN</td>\n",
       "    </tr>\n",
       "    <tr>\n",
       "      <th>1</th>\n",
       "      <td>Male</td>\n",
       "      <td>20</td>\n",
       "      <td>Asian or Pacific Islander</td>\n",
       "      <td>No</td>\n",
       "      <td>Yes</td>\n",
       "      <td>Yes</td>\n",
       "      <td>14</td>\n",
       "      <td>Higher</td>\n",
       "      <td>Higher</td>\n",
       "      <td>Lower</td>\n",
       "      <td>Higher</td>\n",
       "      <td>Higher</td>\n",
       "      <td>Higher</td>\n",
       "      <td>Higher</td>\n",
       "      <td>NaN</td>\n",
       "    </tr>\n",
       "    <tr>\n",
       "      <th>2</th>\n",
       "      <td>Female</td>\n",
       "      <td>20</td>\n",
       "      <td>Asian or Pacific Islander</td>\n",
       "      <td>No</td>\n",
       "      <td>Yes</td>\n",
       "      <td>Yes</td>\n",
       "      <td>15</td>\n",
       "      <td>Higher</td>\n",
       "      <td>Higher</td>\n",
       "      <td>Lower</td>\n",
       "      <td>Higher</td>\n",
       "      <td>Higher</td>\n",
       "      <td>Same</td>\n",
       "      <td>Lower</td>\n",
       "      <td>NaN</td>\n",
       "    </tr>\n",
       "    <tr>\n",
       "      <th>3</th>\n",
       "      <td>Male</td>\n",
       "      <td>20</td>\n",
       "      <td>White</td>\n",
       "      <td>No</td>\n",
       "      <td>Yes</td>\n",
       "      <td>No</td>\n",
       "      <td>0</td>\n",
       "      <td>Lower</td>\n",
       "      <td>Lower</td>\n",
       "      <td>Lower</td>\n",
       "      <td>Lower</td>\n",
       "      <td>Lower</td>\n",
       "      <td>Lower</td>\n",
       "      <td>Lower</td>\n",
       "      <td>NaN</td>\n",
       "    </tr>\n",
       "    <tr>\n",
       "      <th>4</th>\n",
       "      <td>Female</td>\n",
       "      <td>20</td>\n",
       "      <td>Asian or Pacific Islander</td>\n",
       "      <td>No</td>\n",
       "      <td>Yes</td>\n",
       "      <td>Yes</td>\n",
       "      <td>10</td>\n",
       "      <td>Higher</td>\n",
       "      <td>Lower</td>\n",
       "      <td>Lower</td>\n",
       "      <td>Higher</td>\n",
       "      <td>Higher</td>\n",
       "      <td>Lower</td>\n",
       "      <td>Lower</td>\n",
       "      <td>NaN</td>\n",
       "    </tr>\n",
       "  </tbody>\n",
       "</table>\n",
       "</div>"
      ],
      "text/plain": [
       "   Gender  Age                       Race Perfect_Pitch Listen_Music  \\\n",
       "0    Male   20  Asian or Pacific Islander            No          Yes   \n",
       "1    Male   20  Asian or Pacific Islander            No          Yes   \n",
       "2  Female   20  Asian or Pacific Islander            No          Yes   \n",
       "3    Male   20                      White            No          Yes   \n",
       "4  Female   20  Asian or Pacific Islander            No          Yes   \n",
       "\n",
       "  Played_Instruement  Years Control Sequance1 Sequance2 Sequance3 Sequance4  \\\n",
       "0                Yes      5  Higher     Lower    Higher    Higher    Higher   \n",
       "1                Yes     14  Higher    Higher     Lower    Higher    Higher   \n",
       "2                Yes     15  Higher    Higher     Lower    Higher    Higher   \n",
       "3                 No      0   Lower     Lower     Lower     Lower     Lower   \n",
       "4                Yes     10  Higher     Lower     Lower    Higher    Higher   \n",
       "\n",
       "  Sequance5 Sequance6 Notes  \n",
       "0     Lower    Higher   NaN  \n",
       "1    Higher    Higher   NaN  \n",
       "2      Same     Lower   NaN  \n",
       "3     Lower     Lower   NaN  \n",
       "4     Lower     Lower   NaN  "
      ]
     },
     "execution_count": 425,
     "metadata": {},
     "output_type": "execute_result"
    }
   ],
   "source": [
    "experimentA.head()"
   ]
  },
  {
   "cell_type": "markdown",
   "metadata": {},
   "source": [
    "# Part 1: Exploratory Data Analysis"
   ]
  },
  {
   "cell_type": "markdown",
   "metadata": {},
   "source": [
    "## Data Cleaning"
   ]
  },
  {
   "cell_type": "markdown",
   "metadata": {},
   "source": [
    "In this experiment, participants were given a two note sequance and asked to rate whether the second note was a higher or lower pitch than the first note. This sequance was D, D#, with the correct anwser being HIGHER as D# is higher than D. Participants that failed this inital test are excluded from the analysis."
   ]
  },
  {
   "cell_type": "code",
   "execution_count": 426,
   "metadata": {},
   "outputs": [],
   "source": [
    "experimentA = experimentA[experimentA['Control'] == \"Higher\"]\n"
   ]
  },
  {
   "cell_type": "markdown",
   "metadata": {},
   "source": [
    "For ease of future data analysis, the participant responses are marked as incorrect or correct."
   ]
  },
  {
   "cell_type": "code",
   "execution_count": 427,
   "metadata": {},
   "outputs": [
    {
     "data": {
      "text/html": [
       "<div>\n",
       "<style scoped>\n",
       "    .dataframe tbody tr th:only-of-type {\n",
       "        vertical-align: middle;\n",
       "    }\n",
       "\n",
       "    .dataframe tbody tr th {\n",
       "        vertical-align: top;\n",
       "    }\n",
       "\n",
       "    .dataframe thead th {\n",
       "        text-align: right;\n",
       "    }\n",
       "</style>\n",
       "<table border=\"1\" class=\"dataframe\">\n",
       "  <thead>\n",
       "    <tr style=\"text-align: right;\">\n",
       "      <th></th>\n",
       "      <th>Gender</th>\n",
       "      <th>Age</th>\n",
       "      <th>Race</th>\n",
       "      <th>Perfect_Pitch</th>\n",
       "      <th>Listen_Music</th>\n",
       "      <th>Played_Instruement</th>\n",
       "      <th>Years</th>\n",
       "      <th>Control</th>\n",
       "      <th>Sequance1</th>\n",
       "      <th>Sequance2</th>\n",
       "      <th>Sequance3</th>\n",
       "      <th>Sequance4</th>\n",
       "      <th>Sequance5</th>\n",
       "      <th>Sequance6</th>\n",
       "      <th>Notes</th>\n",
       "    </tr>\n",
       "  </thead>\n",
       "  <tbody>\n",
       "    <tr>\n",
       "      <th>0</th>\n",
       "      <td>Male</td>\n",
       "      <td>20</td>\n",
       "      <td>Asian or Pacific Islander</td>\n",
       "      <td>No</td>\n",
       "      <td>Yes</td>\n",
       "      <td>Yes</td>\n",
       "      <td>5</td>\n",
       "      <td>Higher</td>\n",
       "      <td>Incorrect</td>\n",
       "      <td>Incorrect</td>\n",
       "      <td>Correct</td>\n",
       "      <td>Correct</td>\n",
       "      <td>Incorrect</td>\n",
       "      <td>Incorrect</td>\n",
       "      <td>NaN</td>\n",
       "    </tr>\n",
       "    <tr>\n",
       "      <th>1</th>\n",
       "      <td>Male</td>\n",
       "      <td>20</td>\n",
       "      <td>Asian or Pacific Islander</td>\n",
       "      <td>No</td>\n",
       "      <td>Yes</td>\n",
       "      <td>Yes</td>\n",
       "      <td>14</td>\n",
       "      <td>Higher</td>\n",
       "      <td>Correct</td>\n",
       "      <td>Correct</td>\n",
       "      <td>Correct</td>\n",
       "      <td>Correct</td>\n",
       "      <td>Correct</td>\n",
       "      <td>Incorrect</td>\n",
       "      <td>NaN</td>\n",
       "    </tr>\n",
       "    <tr>\n",
       "      <th>2</th>\n",
       "      <td>Female</td>\n",
       "      <td>20</td>\n",
       "      <td>Asian or Pacific Islander</td>\n",
       "      <td>No</td>\n",
       "      <td>Yes</td>\n",
       "      <td>Yes</td>\n",
       "      <td>15</td>\n",
       "      <td>Higher</td>\n",
       "      <td>Correct</td>\n",
       "      <td>Correct</td>\n",
       "      <td>Correct</td>\n",
       "      <td>Correct</td>\n",
       "      <td>Incorrect</td>\n",
       "      <td>Correct</td>\n",
       "      <td>NaN</td>\n",
       "    </tr>\n",
       "    <tr>\n",
       "      <th>4</th>\n",
       "      <td>Female</td>\n",
       "      <td>20</td>\n",
       "      <td>Asian or Pacific Islander</td>\n",
       "      <td>No</td>\n",
       "      <td>Yes</td>\n",
       "      <td>Yes</td>\n",
       "      <td>10</td>\n",
       "      <td>Higher</td>\n",
       "      <td>Incorrect</td>\n",
       "      <td>Correct</td>\n",
       "      <td>Correct</td>\n",
       "      <td>Correct</td>\n",
       "      <td>Incorrect</td>\n",
       "      <td>Correct</td>\n",
       "      <td>NaN</td>\n",
       "    </tr>\n",
       "    <tr>\n",
       "      <th>5</th>\n",
       "      <td>Male</td>\n",
       "      <td>17</td>\n",
       "      <td>Asian or Pacific Islander</td>\n",
       "      <td>No</td>\n",
       "      <td>Yes</td>\n",
       "      <td>Yes</td>\n",
       "      <td>3</td>\n",
       "      <td>Higher</td>\n",
       "      <td>Incorrect</td>\n",
       "      <td>Correct</td>\n",
       "      <td>Incorrect</td>\n",
       "      <td>Correct</td>\n",
       "      <td>Correct</td>\n",
       "      <td>Correct</td>\n",
       "      <td>NaN</td>\n",
       "    </tr>\n",
       "  </tbody>\n",
       "</table>\n",
       "</div>"
      ],
      "text/plain": [
       "   Gender  Age                       Race Perfect_Pitch Listen_Music  \\\n",
       "0    Male   20  Asian or Pacific Islander            No          Yes   \n",
       "1    Male   20  Asian or Pacific Islander            No          Yes   \n",
       "2  Female   20  Asian or Pacific Islander            No          Yes   \n",
       "4  Female   20  Asian or Pacific Islander            No          Yes   \n",
       "5    Male   17  Asian or Pacific Islander            No          Yes   \n",
       "\n",
       "  Played_Instruement  Years Control  Sequance1  Sequance2  Sequance3  \\\n",
       "0                Yes      5  Higher  Incorrect  Incorrect    Correct   \n",
       "1                Yes     14  Higher    Correct    Correct    Correct   \n",
       "2                Yes     15  Higher    Correct    Correct    Correct   \n",
       "4                Yes     10  Higher  Incorrect    Correct    Correct   \n",
       "5                Yes      3  Higher  Incorrect    Correct  Incorrect   \n",
       "\n",
       "  Sequance4  Sequance5  Sequance6 Notes  \n",
       "0   Correct  Incorrect  Incorrect   NaN  \n",
       "1   Correct    Correct  Incorrect   NaN  \n",
       "2   Correct  Incorrect    Correct   NaN  \n",
       "4   Correct  Incorrect    Correct   NaN  \n",
       "5   Correct    Correct    Correct   NaN  "
      ]
     },
     "execution_count": 427,
     "metadata": {},
     "output_type": "execute_result"
    }
   ],
   "source": [
    "experimentA.loc[(experimentA.Sequance1 != 'Higher'),'Sequance1']='Incorrect'\n",
    "experimentA.loc[(experimentA.Sequance1 == 'Higher'),'Sequance1']='Correct'\n",
    "\n",
    "experimentA.loc[(experimentA.Sequance2 != 'Lower'),'Sequance2']='Incorrect'\n",
    "experimentA.loc[(experimentA.Sequance2 == 'Lower'),'Sequance2']='Correct'\n",
    "\n",
    "experimentA.loc[(experimentA.Sequance3 != 'Higher'),'Sequance3']='Incorrect'\n",
    "experimentA.loc[(experimentA.Sequance3 == 'Higher'),'Sequance3']='Correct'\n",
    "\n",
    "experimentA.loc[(experimentA.Sequance4 != 'Higher'),'Sequance4']='Incorrect'\n",
    "experimentA.loc[(experimentA.Sequance4 == 'Higher'),'Sequance4']='Correct'\n",
    "\n",
    "experimentA.loc[(experimentA.Sequance5 != 'Higher'),'Sequance5']='Incorrect'\n",
    "experimentA.loc[(experimentA.Sequance5 == 'Higher'),'Sequance5']='Correct'\n",
    "\n",
    "experimentA.loc[(experimentA.Sequance6 != 'Lower'),'Sequance6']='Incorrect'\n",
    "experimentA.loc[(experimentA.Sequance6 == 'Lower'),'Sequance6']='Correct'\n",
    "\n",
    "\n",
    "\n",
    "experimentA.head()"
   ]
  },
  {
   "cell_type": "markdown",
   "metadata": {},
   "source": [
    "## Looking at the Big Picture"
   ]
  },
  {
   "cell_type": "markdown",
   "metadata": {},
   "source": [
    "### Demographical Snapshot"
   ]
  },
  {
   "cell_type": "markdown",
   "metadata": {},
   "source": [
    "Participants are first split up based on demographical data in order to surface up any abnormalities that would warrant future individual investigation. This also gives us a good picture/snapshot of the underlying distribution we are looking at. \n",
    "\n"
   ]
  },
  {
   "cell_type": "markdown",
   "metadata": {},
   "source": [
    "#### Male"
   ]
  },
  {
   "cell_type": "code",
   "execution_count": 428,
   "metadata": {},
   "outputs": [],
   "source": [
    "experimentA_Male = experimentA[experimentA['Gender'] == \"Male\"]\n"
   ]
  },
  {
   "cell_type": "code",
   "execution_count": 429,
   "metadata": {},
   "outputs": [
    {
     "data": {
      "text/plain": [
       "15"
      ]
     },
     "execution_count": 429,
     "metadata": {},
     "output_type": "execute_result"
    }
   ],
   "source": [
    "#Number of Particpants\n",
    "experimentA_Male.shape[0]"
   ]
  },
  {
   "cell_type": "code",
   "execution_count": 430,
   "metadata": {},
   "outputs": [
    {
     "data": {
      "text/plain": [
       "Age    20.333333\n",
       "dtype: float64"
      ]
     },
     "execution_count": 430,
     "metadata": {},
     "output_type": "execute_result"
    }
   ],
   "source": [
    "#Average Age\n",
    "experimentA_Male[['Age']].mean()"
   ]
  },
  {
   "cell_type": "code",
   "execution_count": 431,
   "metadata": {},
   "outputs": [
    {
     "data": {
      "text/plain": [
       "Years    5.4\n",
       "dtype: float64"
      ]
     },
     "execution_count": 431,
     "metadata": {},
     "output_type": "execute_result"
    }
   ],
   "source": [
    "#Average Years of Musical Training\n",
    "experimentA_Male[['Years']].mean()"
   ]
  },
  {
   "cell_type": "markdown",
   "metadata": {},
   "source": [
    "#### Female"
   ]
  },
  {
   "cell_type": "code",
   "execution_count": 432,
   "metadata": {},
   "outputs": [],
   "source": [
    "experimentA_Female = experimentA[experimentA['Gender'] == \"Female\"]"
   ]
  },
  {
   "cell_type": "code",
   "execution_count": 433,
   "metadata": {},
   "outputs": [
    {
     "data": {
      "text/plain": [
       "11"
      ]
     },
     "execution_count": 433,
     "metadata": {},
     "output_type": "execute_result"
    }
   ],
   "source": [
    "#Number of Particpants\n",
    "experimentA_Female.shape[0]"
   ]
  },
  {
   "cell_type": "code",
   "execution_count": 434,
   "metadata": {},
   "outputs": [
    {
     "data": {
      "text/plain": [
       "Age    20.636364\n",
       "dtype: float64"
      ]
     },
     "execution_count": 434,
     "metadata": {},
     "output_type": "execute_result"
    }
   ],
   "source": [
    "#Average Age\n",
    "experimentA_Female[['Age']].mean()"
   ]
  },
  {
   "cell_type": "code",
   "execution_count": 435,
   "metadata": {},
   "outputs": [
    {
     "data": {
      "text/plain": [
       "Years    8.727273\n",
       "dtype: float64"
      ]
     },
     "execution_count": 435,
     "metadata": {},
     "output_type": "execute_result"
    }
   ],
   "source": [
    "#Average Years of Musical Training\n",
    "experimentA_Female[['Years']].mean()"
   ]
  },
  {
   "cell_type": "markdown",
   "metadata": {},
   "source": [
    "#### Decline to state"
   ]
  },
  {
   "cell_type": "code",
   "execution_count": 436,
   "metadata": {},
   "outputs": [],
   "source": [
    "experimentA_decline = experimentA[experimentA['Gender'] == \"Prefer not to say\"]"
   ]
  },
  {
   "cell_type": "code",
   "execution_count": 437,
   "metadata": {},
   "outputs": [
    {
     "data": {
      "text/plain": [
       "1"
      ]
     },
     "execution_count": 437,
     "metadata": {},
     "output_type": "execute_result"
    }
   ],
   "source": [
    "experimentA_decline.shape[0]"
   ]
  },
  {
   "cell_type": "markdown",
   "metadata": {},
   "source": [
    "### Music Background Snapshot"
   ]
  },
  {
   "cell_type": "markdown",
   "metadata": {},
   "source": [
    "A participant's music background is looked at. In the sample, nearly all participants reported listening to music regularly, and many have played an instrument."
   ]
  },
  {
   "cell_type": "markdown",
   "metadata": {},
   "source": [
    "#### Listened to Music?"
   ]
  },
  {
   "cell_type": "code",
   "execution_count": 438,
   "metadata": {},
   "outputs": [
    {
     "data": {
      "text/plain": [
       "0.9629629629629629"
      ]
     },
     "execution_count": 438,
     "metadata": {},
     "output_type": "execute_result"
    }
   ],
   "source": [
    "#Percentage of Overall Sample that Listened to Music Regularly\n",
    "experimentA[experimentA['Listen_Music'] == \"Yes\"].shape[0]/experimentA.shape[0]"
   ]
  },
  {
   "cell_type": "markdown",
   "metadata": {},
   "source": [
    "#### Played an instrument? FIX SPELLING"
   ]
  },
  {
   "cell_type": "code",
   "execution_count": 439,
   "metadata": {},
   "outputs": [
    {
     "data": {
      "text/plain": [
       "0.8518518518518519"
      ]
     },
     "execution_count": 439,
     "metadata": {},
     "output_type": "execute_result"
    }
   ],
   "source": [
    "#Percentage of Overall Sample that Listened to Music Regularly\n",
    "experimentA[experimentA['Played_Instruement'] == \"Yes\"].shape[0]/experimentA.shape[0]"
   ]
  },
  {
   "cell_type": "markdown",
   "metadata": {},
   "source": [
    "#### Average Years of Musical training (all samples)"
   ]
  },
  {
   "cell_type": "code",
   "execution_count": 440,
   "metadata": {},
   "outputs": [
    {
     "data": {
      "text/plain": [
       "Years    7.333333\n",
       "dtype: float64"
      ]
     },
     "execution_count": 440,
     "metadata": {},
     "output_type": "execute_result"
    }
   ],
   "source": [
    "experimentA[[\"Years\"]].mean()"
   ]
  },
  {
   "cell_type": "markdown",
   "metadata": {},
   "source": [
    "## Looking at the Big Picture Conclusions (After data cleaning):\n",
    "- The number of participants were 30 in total orignally, 3 participants were removed due to failing the control sequence.\n",
    "- 15 male, 11 female, and 1 decline to state was the demographical breakup by gender. The average age was 20 and average years of musical training was 7 years.\n",
    "- Almost all participants listen to music regularily (96%) and most played an instrument or had musical training at some point in their life (85%). \n"
   ]
  },
  {
   "cell_type": "markdown",
   "metadata": {},
   "source": [
    "## Correctness Snapshot"
   ]
  },
  {
   "cell_type": "markdown",
   "metadata": {},
   "source": [
    "The proportion of correct versus incorrect responses are now looked at for each musical sequance that was played. \n",
    "A graph depicting these results are displayed. Overall Correct: 53%"
   ]
  },
  {
   "cell_type": "markdown",
   "metadata": {},
   "source": [
    "### Sequance 1 (Late):\n",
    "##### 33% correctly identified the pitch\n",
    "C F D D# F F# C# F D C# (C# HIGHER than C)"
   ]
  },
  {
   "cell_type": "code",
   "execution_count": 441,
   "metadata": {},
   "outputs": [],
   "source": [
    "#Male\n",
    "experimentA_Male[experimentA_Male['Sequance1'] == \"Correct\"].shape[0]/experimentA_Male.shape[0]\n",
    "#Female\n",
    "experimentA_Female[experimentA_Female['Sequance1'] == \"Correct\"].shape[0]/experimentA_Female.shape[0]\n",
    "#Overall\n",
    "sequance1_all = experimentA[experimentA['Sequance1'] == \"Correct\"].shape[0]/experimentA.shape[0] * 100\n"
   ]
  },
  {
   "cell_type": "code",
   "execution_count": 442,
   "metadata": {},
   "outputs": [
    {
     "data": {
      "text/plain": [
       "33.33333333333333"
      ]
     },
     "execution_count": 442,
     "metadata": {},
     "output_type": "execute_result"
    }
   ],
   "source": [
    "sequance1_all"
   ]
  },
  {
   "cell_type": "markdown",
   "metadata": {},
   "source": [
    "### Sequance 2 (Early): \n",
    "##### 81% correctly identified the pitch\n",
    "\n",
    "E F D D# F F# C# F D D# (D# LOWER than E)"
   ]
  },
  {
   "cell_type": "code",
   "execution_count": 443,
   "metadata": {},
   "outputs": [],
   "source": [
    "#Male\n",
    "experimentA_Male[experimentA_Male['Sequance2'] == \"Correct\"].shape[0]/experimentA_Male.shape[0]\n",
    "#Female\n",
    "experimentA_Female[experimentA_Female['Sequance2'] == \"Correct\"].shape[0]/experimentA_Female.shape[0]\n",
    "#Overall\n",
    "sequance2_all = experimentA[experimentA['Sequance2'] == \"Correct\"].shape[0]/experimentA.shape[0] * 100"
   ]
  },
  {
   "cell_type": "code",
   "execution_count": 444,
   "metadata": {},
   "outputs": [
    {
     "data": {
      "text/plain": [
       "81.48148148148148"
      ]
     },
     "execution_count": 444,
     "metadata": {},
     "output_type": "execute_result"
    }
   ],
   "source": [
    "sequance2_all"
   ]
  },
  {
   "cell_type": "markdown",
   "metadata": {},
   "source": [
    "### Sequance 3 (Precise Metric Position):\n",
    "##### 67% correctly identifid the pitch.\n",
    "D F D D# F F# C# F D D# (D# HIGHER than D)    "
   ]
  },
  {
   "cell_type": "code",
   "execution_count": 445,
   "metadata": {},
   "outputs": [],
   "source": [
    "#Male\n",
    "experimentA_Male[experimentA_Male['Sequance3'] == \"Correct\"].shape[0]/experimentA_Male.shape[0]\n",
    "#Female\n",
    "experimentA_Female[experimentA_Female['Sequance3'] == \"Correct\"].shape[0]/experimentA_Female.shape[0]\n",
    "#Overall\n",
    "sequance3_all = experimentA[experimentA['Sequance3'] == \"Correct\"].shape[0]/experimentA.shape[0] * 100 "
   ]
  },
  {
   "cell_type": "code",
   "execution_count": 446,
   "metadata": {},
   "outputs": [
    {
     "data": {
      "text/plain": [
       "66.66666666666666"
      ]
     },
     "execution_count": 446,
     "metadata": {},
     "output_type": "execute_result"
    }
   ],
   "source": [
    "sequance3_all"
   ]
  },
  {
   "cell_type": "markdown",
   "metadata": {},
   "source": [
    "### Sequance 4 (Very Early):\n",
    "##### 56% correctly identified the pitch.\n",
    "E F D D# F F# C# F D F (F HIGHER than E) "
   ]
  },
  {
   "cell_type": "code",
   "execution_count": 447,
   "metadata": {},
   "outputs": [],
   "source": [
    "#Male\n",
    "experimentA_Male[experimentA_Male['Sequance4'] == \"Correct\"].shape[0]/experimentA_Male.shape[0]\n",
    "#Female\n",
    "experimentA_Female[experimentA_Female['Sequance4'] == \"Correct\"].shape[0]/experimentA_Female.shape[0]\n",
    "#Overall\n",
    "sequance4_all = experimentA[experimentA['Sequance4'] == \"Correct\"].shape[0]/experimentA.shape[0] *100 "
   ]
  },
  {
   "cell_type": "code",
   "execution_count": 448,
   "metadata": {},
   "outputs": [
    {
     "data": {
      "text/plain": [
       "55.55555555555556"
      ]
     },
     "execution_count": 448,
     "metadata": {},
     "output_type": "execute_result"
    }
   ],
   "source": [
    "sequance4_all"
   ]
  },
  {
   "cell_type": "markdown",
   "metadata": {},
   "source": [
    "### Sequance 5 (Irregular Temporal Context):\n",
    "##### 33% correctly identified the pitch.\n",
    "D C E B E E D F E C# D# (D# HIGHER than D)"
   ]
  },
  {
   "cell_type": "code",
   "execution_count": 449,
   "metadata": {},
   "outputs": [],
   "source": [
    "#Male\n",
    "experimentA_Male[experimentA_Male['Sequance5'] == \"Correct\"].shape[0]/experimentA_Male.shape[0]\n",
    "#Female\n",
    "experimentA_Female[experimentA_Female['Sequance5'] == \"Correct\"].shape[0]/experimentA_Female.shape[0]\n",
    "#Overall\n",
    "sequance5_all = experimentA[experimentA['Sequance5'] == \"Correct\"].shape[0]/experimentA.shape[0] *100 "
   ]
  },
  {
   "cell_type": "code",
   "execution_count": 450,
   "metadata": {},
   "outputs": [
    {
     "data": {
      "text/plain": [
       "33.33333333333333"
      ]
     },
     "execution_count": 450,
     "metadata": {},
     "output_type": "execute_result"
    }
   ],
   "source": [
    "sequance5_all"
   ]
  },
  {
   "cell_type": "markdown",
   "metadata": {},
   "source": [
    "### Sequance 6 (Very Late):\n",
    "##### 52% correctly identified the pitch.\n",
    "F F D D# F F# C# F D E (E LOWER than F) "
   ]
  },
  {
   "cell_type": "code",
   "execution_count": 451,
   "metadata": {},
   "outputs": [],
   "source": [
    "#Male\n",
    "experimentA_Male[experimentA_Male['Sequance6'] == \"Correct\"].shape[0]/experimentA_Male.shape[0]\n",
    "#Female\n",
    "experimentA_Female[experimentA_Female['Sequance6'] == \"Correct\"].shape[0]/experimentA_Female.shape[0]\n",
    "#Overall\n",
    "sequance6_all = experimentA[experimentA['Sequance6'] == \"Correct\"].shape[0]/experimentA.shape[0] *100"
   ]
  },
  {
   "cell_type": "code",
   "execution_count": 452,
   "metadata": {},
   "outputs": [
    {
     "data": {
      "text/plain": [
       "51.85185185185185"
      ]
     },
     "execution_count": 452,
     "metadata": {},
     "output_type": "execute_result"
    }
   ],
   "source": [
    "sequance6_all"
   ]
  },
  {
   "cell_type": "code",
   "execution_count": 453,
   "metadata": {},
   "outputs": [
    {
     "data": {
      "text/plain": [
       "Text(0.5, 1.0, 'Graph of % correct identifying pitch vs metric position(timing)')"
      ]
     },
     "execution_count": 453,
     "metadata": {},
     "output_type": "execute_result"
    },
    {
     "data": {
      "image/png": "[encoded data removed]",
      "text/plain": [
       "<Figure size 432x288 with 1 Axes>"
      ]
     },
     "metadata": {
      "needs_background": "light"
     },
     "output_type": "display_data"
    }
   ],
   "source": [
    "experimentA_all_bar = pd.DataFrame({'Metric Position':['Very Early', 'Early', 'On-Time','Late','Verly Late','Irregular'], 'Percentage Correct':[sequance4_all,sequance2_all,sequance3_all,sequance1_all,sequance6_all,sequance5_all]})\n",
    "ax = experimentA_all_bar.plot.bar(x='Metric Position', y='Percentage Correct', rot=0)\n",
    "ax.set_title('Graph of % correct identifying pitch vs metric position(timing)')\n"
   ]
  },
  {
   "cell_type": "markdown",
   "metadata": {},
   "source": [
    "# Part 2 Data Analysis:\n"
   ]
  },
  {
   "cell_type": "markdown",
   "metadata": {},
   "source": [
    "## Hypothesis (A/B) Testing:\n",
    "Null: The timing of the comparison tone (the last note) relatively to the distracting tones (notes in the middle)\n",
    "does not affect a participants performance in determining if the comparison tone is higher/lower/same in pitch\n",
    "than than the standard tone."
   ]
  },
  {
   "cell_type": "code",
   "execution_count": 454,
   "metadata": {},
   "outputs": [],
   "source": [
    "test_statistics = []\n",
    "sampling_array = np.append(experimentA[\"Sequance1\"].array,experimentA[\"Sequance2\"].array)\n",
    "sampling_array = np.append(sampling_array,experimentA[\"Sequance3\"].array)\n",
    "sampling_array = np.append(sampling_array,experimentA[\"Sequance4\"].array)\n",
    "sampling_array = np.append(sampling_array,experimentA[\"Sequance5\"].array)\n",
    "sampling_array = np.append(sampling_array,experimentA[\"Sequance6\"].array)\n",
    "\n",
    "\n"
   ]
  },
  {
   "cell_type": "code",
   "execution_count": 455,
   "metadata": {},
   "outputs": [
    {
     "data": {
      "text/plain": [
       "162"
      ]
     },
     "execution_count": 455,
     "metadata": {},
     "output_type": "execute_result"
    }
   ],
   "source": [
    "len(sampling_array)"
   ]
  },
  {
   "cell_type": "code",
   "execution_count": 456,
   "metadata": {},
   "outputs": [],
   "source": [
    "def observerd_statistic_cacl(seq='Sequance3'):\n",
    "    ## Returns the observered statistic, which in this case is the\n",
    "    ## % correct of the specific sequance OR % correct of Sequance 3 (normal metric position)\n",
    "        sequance_test = experimentA[seq].values\n",
    "        percent_correct = np.count_nonzero(sequance_test==\"Correct\")/len(sequance_test)\n",
    "        return percent_correct\n",
    "    "
   ]
  },
  {
   "cell_type": "code",
   "execution_count": 457,
   "metadata": {},
   "outputs": [],
   "source": [
    "def a_b_test(seq=None,general=True):\n",
    "    ##Calculates the test statistic between a sequance and general distribution.\n",
    "    \n",
    "   \n",
    "    if general != True:\n",
    "        sequance_test = experimentA[seq].sample(n=experimentA.shape[0],replace=True).values\n",
    "        #Pecent correct in specific sequance distribution\n",
    "        unique, counts = np.unique(sequance_test, return_counts=True)\n",
    "        result = dict(zip(unique, counts))\n",
    "        try:\n",
    "            percent_correct = result['Correct']/len(sequance_test)\n",
    "        except:\n",
    "            percent_correct = 0\n",
    "    else:\n",
    "        #Percent correct in overall distribution    \n",
    "        general_test = np.random.choice(sampling_array,size=experimentA.shape[0],replace=True)\n",
    "        unique1, counts1 = np.unique(general_test, return_counts=True)\n",
    "        result1 = dict(zip(unique1, counts1))\n",
    "        try:\n",
    "            percent_correct = result1['Correct']/len(general_test)\n",
    "        except:\n",
    "            percent_correct= 0\n",
    "\n",
    "    \n",
    "    #Calculate test statistic\n",
    "    test_statistic = percent_correct\n",
    "    return np.array([test_statistic])\n",
    "    \n"
   ]
  },
  {
   "cell_type": "markdown",
   "metadata": {},
   "source": [
    "#### Sequance 1 (Late): 33% correct\n",
    "\n",
    "C F D D# F F# C# F D C# (C# HIGHER than C)\n"
   ]
  },
  {
   "cell_type": "markdown",
   "metadata": {},
   "source": [
    "Comparing late sequance to overall distribution (Late < Overall)"
   ]
  },
  {
   "cell_type": "code",
   "execution_count": 458,
   "metadata": {},
   "outputs": [
    {
     "data": {
      "text/plain": [
       "0.007000000000000006"
      ]
     },
     "execution_count": 458,
     "metadata": {},
     "output_type": "execute_result"
    }
   ],
   "source": [
    "observed_statistic = observerd_statistic_cacl(\"Sequance1\")\n",
    "test_statistics = np.array([])\n",
    "for i in range(0,1000):\n",
    "    test_statistics = np.concatenate((test_statistics,a_b_test()))\n",
    "    \n",
    "p_value = 1 - np.count_nonzero(observed_statistic <= test_statistics)/1000\n",
    "p_value"
   ]
  },
  {
   "cell_type": "markdown",
   "metadata": {},
   "source": [
    "Comparing late sequance to on time sequance (Late < On Time)"
   ]
  },
  {
   "cell_type": "code",
   "execution_count": 469,
   "metadata": {},
   "outputs": [
    {
     "data": {
      "text/plain": [
       "0.0"
      ]
     },
     "execution_count": 469,
     "metadata": {},
     "output_type": "execute_result"
    }
   ],
   "source": [
    "observed_statistic = observerd_statistic_cacl(\"Sequance1\")\n",
    "test_statistics = np.array([])\n",
    "for i in range(0,1000):\n",
    "    test_statistics = np.concatenate((test_statistics,a_b_test(\"Sequance3\",False)))\n",
    "    \n",
    "p_value = 1 - np.count_nonzero(observed_statistic <= test_statistics)/1000\n",
    "p_value"
   ]
  },
  {
   "cell_type": "markdown",
   "metadata": {},
   "source": [
    "#### Conclusion 1:\n",
    "The percentage correct seen in the late arriving note sequance is statistically significant when compared to both the overall distribution and the on-time distribution."
   ]
  },
  {
   "cell_type": "markdown",
   "metadata": {},
   "source": [
    "#### Sequance 2 (Early): 81% correct\n",
    "\n",
    "E F D D# F F# C# F D D# (D# LOWER than E)\n"
   ]
  },
  {
   "cell_type": "markdown",
   "metadata": {},
   "source": [
    "Comparing early sequance to overall distribution (Early > Overall)"
   ]
  },
  {
   "cell_type": "code",
   "execution_count": 460,
   "metadata": {},
   "outputs": [
    {
     "data": {
      "text/plain": [
       "0.0"
      ]
     },
     "execution_count": 460,
     "metadata": {},
     "output_type": "execute_result"
    }
   ],
   "source": [
    "observed_statistic = observerd_statistic_cacl(\"Sequance2\")\n",
    "test_statistics = np.array([])\n",
    "for i in range(0,1000):\n",
    "    test_statistics = np.concatenate((test_statistics,a_b_test()))\n",
    "    \n",
    "p_value = 1 - np.count_nonzero(observed_statistic >= test_statistics)/1000\n",
    "p_value"
   ]
  },
  {
   "cell_type": "markdown",
   "metadata": {},
   "source": [
    "Comparing early sequance to on time sequance (Early > On Time)"
   ]
  },
  {
   "cell_type": "code",
   "execution_count": 461,
   "metadata": {},
   "outputs": [
    {
     "data": {
      "text/plain": [
       "0.03300000000000003"
      ]
     },
     "execution_count": 461,
     "metadata": {},
     "output_type": "execute_result"
    }
   ],
   "source": [
    "observed_statistic = observerd_statistic_cacl(\"Sequance2\")\n",
    "test_statistics = np.array([])\n",
    "for i in range(0,1000):\n",
    "    test_statistics = np.concatenate((test_statistics,a_b_test(\"Sequance3\",False)))\n",
    "    \n",
    "p_value = 1 - np.count_nonzero(observed_statistic >= test_statistics)/1000\n",
    "p_value"
   ]
  },
  {
   "cell_type": "markdown",
   "metadata": {},
   "source": [
    "#### Conclusion 2 : \n",
    "The percentage correct seen in the early arriving note sequance is statistically significant when compared to both the overall distribution and the on-time distribution.\n",
    "\n",
    "\n"
   ]
  },
  {
   "cell_type": "markdown",
   "metadata": {},
   "source": [
    "#### Sequance 3 (Precise Metric Position): 67%\n",
    "\n",
    "D F D D# F F# C# F D D# (D# HIGHER than D)\n"
   ]
  },
  {
   "cell_type": "code",
   "execution_count": 471,
   "metadata": {},
   "outputs": [
    {
     "data": {
      "text/plain": [
       "0.049000000000000044"
      ]
     },
     "execution_count": 471,
     "metadata": {},
     "output_type": "execute_result"
    }
   ],
   "source": [
    "observed_statistic = observerd_statistic_cacl(\"Sequance3\")\n",
    "test_statistics = np.array([])\n",
    "for i in range(0,1000):\n",
    "    test_statistics = np.concatenate((test_statistics,a_b_test()))\n",
    "    \n",
    "p_value = 1 - np.count_nonzero(observed_statistic >= test_statistics)/1000\n",
    "p_value"
   ]
  },
  {
   "cell_type": "markdown",
   "metadata": {},
   "source": [
    "#### Conclusion 3 :\n",
    "The percentage correct seen in the note arrving at the precise metric position is statistically significant when compared to the overall distribution.\n"
   ]
  },
  {
   "cell_type": "markdown",
   "metadata": {},
   "source": [
    "#### Sequance 4 (Very Early): 56% correct\n",
    "\n",
    "E F D D# F F# C# F D F (F HIGHER than E)\n"
   ]
  },
  {
   "cell_type": "markdown",
   "metadata": {},
   "source": [
    "Comparing very early sequance to overall (About same)"
   ]
  },
  {
   "cell_type": "code",
   "execution_count": 463,
   "metadata": {},
   "outputs": [
    {
     "data": {
      "text/plain": [
       "0.345"
      ]
     },
     "execution_count": 463,
     "metadata": {},
     "output_type": "execute_result"
    }
   ],
   "source": [
    "observed_statistic = observerd_statistic_cacl(\"Sequance4\")\n",
    "test_statistics = np.array([])\n",
    "for i in range(0,1000):\n",
    "    test_statistics = np.concatenate((test_statistics,a_b_test()))\n",
    "    \n",
    "p_value = 1 - np.count_nonzero(test_statistics <= observed_statistic)/1000\n",
    "p_value"
   ]
  },
  {
   "cell_type": "markdown",
   "metadata": {},
   "source": [
    "Comparing very early to on-time (very early < on time)\n",
    "\n"
   ]
  },
  {
   "cell_type": "code",
   "execution_count": 464,
   "metadata": {},
   "outputs": [
    {
     "data": {
      "text/plain": [
       "0.07699999999999996"
      ]
     },
     "execution_count": 464,
     "metadata": {},
     "output_type": "execute_result"
    }
   ],
   "source": [
    "observed_statistic = observerd_statistic_cacl(\"Sequance4\")\n",
    "test_statistics = np.array([])\n",
    "for i in range(0,1000):\n",
    "    test_statistics = np.concatenate((test_statistics,a_b_test(\"Sequance3\",False)))\n",
    "    \n",
    "p_value = 1 - np.count_nonzero(observed_statistic <= test_statistics)/1000\n",
    "p_value\n"
   ]
  },
  {
   "cell_type": "markdown",
   "metadata": {},
   "source": [
    "#### Conclusion:  4\n",
    "The percentage correct is not statsitically significant in all comparisons."
   ]
  },
  {
   "cell_type": "markdown",
   "metadata": {},
   "source": [
    "#### Sequance 5 (Irregular Temporal Context): 33% correct\n",
    "\n",
    "D C E B E E D F E C# D# (D# HIGHER than D)\n"
   ]
  },
  {
   "cell_type": "markdown",
   "metadata": {},
   "source": [
    "Comparing irregular to general (irregular < general)"
   ]
  },
  {
   "cell_type": "code",
   "execution_count": 465,
   "metadata": {},
   "outputs": [
    {
     "data": {
      "text/plain": [
       "0.0050000000000000044"
      ]
     },
     "execution_count": 465,
     "metadata": {},
     "output_type": "execute_result"
    }
   ],
   "source": [
    "observed_statistic = observerd_statistic_cacl(\"Sequance5\")\n",
    "test_statistics = np.array([])\n",
    "for i in range(0,1000):\n",
    "    test_statistics = np.concatenate((test_statistics,a_b_test()))\n",
    "    \n",
    "p_value = 1 - np.count_nonzero(observed_statistic <= test_statistics )/1000\n",
    "p_value"
   ]
  },
  {
   "cell_type": "code",
   "execution_count": 466,
   "metadata": {},
   "outputs": [
    {
     "data": {
      "text/plain": [
       "0.0"
      ]
     },
     "execution_count": 466,
     "metadata": {},
     "output_type": "execute_result"
    }
   ],
   "source": [
    "observed_statistic = observerd_statistic_cacl(\"Sequance5\")\n",
    "test_statistics = np.array([])\n",
    "for i in range(0,1000):\n",
    "    test_statistics = np.concatenate((test_statistics,a_b_test(\"Sequance3\",False)))\n",
    "    \n",
    "p_value = 1 - np.count_nonzero( observed_statistic <= test_statistics )/1000\n",
    "p_value"
   ]
  },
  {
   "cell_type": "markdown",
   "metadata": {},
   "source": [
    "#### Conclusion 5:\n",
    "The percentage correct is statistically signiciant in all comparisons."
   ]
  },
  {
   "cell_type": "markdown",
   "metadata": {},
   "source": [
    "#### Sequance 6 (Very Late): 52% correct\n",
    "\n",
    "F F D D# F F# C# F D E (E LOWER than F)\n"
   ]
  },
  {
   "cell_type": "markdown",
   "metadata": {},
   "source": [
    "Comparing very late to general (about same)"
   ]
  },
  {
   "cell_type": "code",
   "execution_count": 467,
   "metadata": {},
   "outputs": [
    {
     "data": {
      "text/plain": [
       "0.514"
      ]
     },
     "execution_count": 467,
     "metadata": {},
     "output_type": "execute_result"
    }
   ],
   "source": [
    "observed_statistic = observerd_statistic_cacl(\"Sequance6\")\n",
    "test_statistics = np.array([])\n",
    "for i in range(0,1000):\n",
    "    test_statistics = np.concatenate((test_statistics,a_b_test()))\n",
    "    \n",
    "p_value = 1-  np.count_nonzero(observed_statistic < test_statistics)/1000\n",
    "p_value"
   ]
  },
  {
   "cell_type": "markdown",
   "metadata": {},
   "source": [
    "Comparing very late to on time (very late < on time)"
   ]
  },
  {
   "cell_type": "code",
   "execution_count": 468,
   "metadata": {},
   "outputs": [
    {
     "data": {
      "text/plain": [
       "0.06599999999999995"
      ]
     },
     "execution_count": 468,
     "metadata": {},
     "output_type": "execute_result"
    }
   ],
   "source": [
    "observed_statistic = observerd_statistic_cacl(\"Sequance6\")\n",
    "test_statistics = np.array([])\n",
    "for i in range(0,1000):\n",
    "    test_statistics = np.concatenate((test_statistics,a_b_test(\"Sequance3\",False)))\n",
    "    \n",
    "p_value =  1 - np.count_nonzero(observed_statistic < test_statistics )/1000\n",
    "p_value"
   ]
  },
  {
   "cell_type": "markdown",
   "metadata": {},
   "source": [
    "#### Conclusion: 6\n",
    "The percentage correct is not statistically significant in all comparisons."
   ]
  }
 ],
 "metadata": {
  "kernelspec": {
   "display_name": "Python 3",
   "language": "python",
   "name": "python3"
  },
  "language_info": {
   "codemirror_mode": {
    "name": "ipython",
    "version": 3
   },
   "file_extension": ".py",
   "mimetype": "text/x-python",
   "name": "python",
   "nbconvert_exporter": "python",
   "pygments_lexer": "ipython3",
   "version": "3.8.3"
  }
 },
 "nbformat": 4,
 "nbformat_minor": 4
}
